{
 "cells": [
  {
   "cell_type": "code",
   "execution_count": 1,
   "metadata": {},
   "outputs": [],
   "source": [
    "import pandas as pd"
   ]
  },
  {
   "cell_type": "code",
   "execution_count": 2,
   "metadata": {},
   "outputs": [],
   "source": [
    "dados = pd.read_excel(\"./dados.xlsx\")"
   ]
  },
  {
   "cell_type": "code",
   "execution_count": 3,
   "metadata": {},
   "outputs": [
    {
     "data": {
      "text/html": [
       "<div>\n",
       "<style scoped>\n",
       "    .dataframe tbody tr th:only-of-type {\n",
       "        vertical-align: middle;\n",
       "    }\n",
       "\n",
       "    .dataframe tbody tr th {\n",
       "        vertical-align: top;\n",
       "    }\n",
       "\n",
       "    .dataframe thead th {\n",
       "        text-align: right;\n",
       "    }\n",
       "</style>\n",
       "<table border=\"1\" class=\"dataframe\">\n",
       "  <thead>\n",
       "    <tr style=\"text-align: right;\">\n",
       "      <th></th>\n",
       "      <th>email</th>\n",
       "      <th>id de pedido</th>\n",
       "      <th>status do pedido</th>\n",
       "      <th>data de criação</th>\n",
       "      <th>item</th>\n",
       "      <th>categoria</th>\n",
       "      <th>quantidade</th>\n",
       "      <th>preço unitário</th>\n",
       "      <th>subtotal</th>\n",
       "      <th>preço total do pedido</th>\n",
       "    </tr>\n",
       "  </thead>\n",
       "  <tbody>\n",
       "    <tr>\n",
       "      <th>0</th>\n",
       "      <td>wobes86896@neragez.com</td>\n",
       "      <td>1</td>\n",
       "      <td>faturado</td>\n",
       "      <td>2021-08-01</td>\n",
       "      <td>Jaqueta Bomber cinza</td>\n",
       "      <td>Blusas e jaquetas</td>\n",
       "      <td>1</td>\n",
       "      <td>890</td>\n",
       "      <td>890</td>\n",
       "      <td>2555</td>\n",
       "    </tr>\n",
       "    <tr>\n",
       "      <th>1</th>\n",
       "      <td>wobes86896@neragez.com</td>\n",
       "      <td>1</td>\n",
       "      <td>faturado</td>\n",
       "      <td>2021-08-02</td>\n",
       "      <td>Sobretudo Estampado marrom</td>\n",
       "      <td>Blusas e jaquetas</td>\n",
       "      <td>1</td>\n",
       "      <td>945</td>\n",
       "      <td>945</td>\n",
       "      <td>2555</td>\n",
       "    </tr>\n",
       "    <tr>\n",
       "      <th>2</th>\n",
       "      <td>wobes86896@neragez.com</td>\n",
       "      <td>1</td>\n",
       "      <td>faturado</td>\n",
       "      <td>2021-08-03</td>\n",
       "      <td>Sapato Oxford  preto</td>\n",
       "      <td>Sapatos</td>\n",
       "      <td>1</td>\n",
       "      <td>720</td>\n",
       "      <td>720</td>\n",
       "      <td>2555</td>\n",
       "    </tr>\n",
       "    <tr>\n",
       "      <th>3</th>\n",
       "      <td>wekevi8743@nubenews.com</td>\n",
       "      <td>2</td>\n",
       "      <td>faturado</td>\n",
       "      <td>2021-08-04</td>\n",
       "      <td>Camiseta Manga Longa</td>\n",
       "      <td>Camisetas</td>\n",
       "      <td>2</td>\n",
       "      <td>315</td>\n",
       "      <td>630</td>\n",
       "      <td>870</td>\n",
       "    </tr>\n",
       "    <tr>\n",
       "      <th>4</th>\n",
       "      <td>wekevi8743@nubenews.com</td>\n",
       "      <td>2</td>\n",
       "      <td>faturado</td>\n",
       "      <td>2021-08-05</td>\n",
       "      <td>Camiseta Basica</td>\n",
       "      <td>Camisetas</td>\n",
       "      <td>1</td>\n",
       "      <td>240</td>\n",
       "      <td>240</td>\n",
       "      <td>870</td>\n",
       "    </tr>\n",
       "    <tr>\n",
       "      <th>5</th>\n",
       "      <td>ginamo3275@neragez.com</td>\n",
       "      <td>3</td>\n",
       "      <td>cancelado</td>\n",
       "      <td>2021-08-06</td>\n",
       "      <td>Camisa manga curta</td>\n",
       "      <td>Camisa</td>\n",
       "      <td>1</td>\n",
       "      <td>490</td>\n",
       "      <td>490</td>\n",
       "      <td>490</td>\n",
       "    </tr>\n",
       "    <tr>\n",
       "      <th>6</th>\n",
       "      <td>rovokap452@neragez.com</td>\n",
       "      <td>4</td>\n",
       "      <td>faturado</td>\n",
       "      <td>2021-08-07</td>\n",
       "      <td>Calça Alfaiataria marrom</td>\n",
       "      <td>Calças</td>\n",
       "      <td>2</td>\n",
       "      <td>370</td>\n",
       "      <td>740</td>\n",
       "      <td>740</td>\n",
       "    </tr>\n",
       "    <tr>\n",
       "      <th>7</th>\n",
       "      <td>wekevi8743@nubenews.com</td>\n",
       "      <td>5</td>\n",
       "      <td>faturado</td>\n",
       "      <td>2021-08-08</td>\n",
       "      <td>Bermuda Sailor</td>\n",
       "      <td>Bermuda</td>\n",
       "      <td>3</td>\n",
       "      <td>280</td>\n",
       "      <td>840</td>\n",
       "      <td>840</td>\n",
       "    </tr>\n",
       "    <tr>\n",
       "      <th>8</th>\n",
       "      <td>gobimi6239@ncdainfo.com</td>\n",
       "      <td>6</td>\n",
       "      <td>faturado</td>\n",
       "      <td>2021-08-09</td>\n",
       "      <td>Pochete listrada preta</td>\n",
       "      <td>Acessórios</td>\n",
       "      <td>1</td>\n",
       "      <td>160</td>\n",
       "      <td>160</td>\n",
       "      <td>635</td>\n",
       "    </tr>\n",
       "    <tr>\n",
       "      <th>9</th>\n",
       "      <td>gobimi6239@ncdainfo.com</td>\n",
       "      <td>6</td>\n",
       "      <td>faturado</td>\n",
       "      <td>2021-08-10</td>\n",
       "      <td>Toca Tricot cinza</td>\n",
       "      <td>Acessórios</td>\n",
       "      <td>1</td>\n",
       "      <td>110</td>\n",
       "      <td>110</td>\n",
       "      <td>635</td>\n",
       "    </tr>\n",
       "    <tr>\n",
       "      <th>10</th>\n",
       "      <td>gobimi6239@ncdainfo.com</td>\n",
       "      <td>6</td>\n",
       "      <td>faturado</td>\n",
       "      <td>2021-08-11</td>\n",
       "      <td>Carteira Couro marrom</td>\n",
       "      <td>Acessórios</td>\n",
       "      <td>1</td>\n",
       "      <td>85</td>\n",
       "      <td>85</td>\n",
       "      <td>635</td>\n",
       "    </tr>\n",
       "    <tr>\n",
       "      <th>11</th>\n",
       "      <td>gobimi6239@ncdainfo.com</td>\n",
       "      <td>6</td>\n",
       "      <td>faturado</td>\n",
       "      <td>2021-08-12</td>\n",
       "      <td>Bermuda Sailor</td>\n",
       "      <td>Bermuda</td>\n",
       "      <td>1</td>\n",
       "      <td>280</td>\n",
       "      <td>280</td>\n",
       "      <td>635</td>\n",
       "    </tr>\n",
       "    <tr>\n",
       "      <th>12</th>\n",
       "      <td>wobes86896@neragez.com</td>\n",
       "      <td>7</td>\n",
       "      <td>faturado</td>\n",
       "      <td>2021-08-13</td>\n",
       "      <td>Pochete listrada preta</td>\n",
       "      <td>Acessórios</td>\n",
       "      <td>1</td>\n",
       "      <td>160</td>\n",
       "      <td>160</td>\n",
       "      <td>1050</td>\n",
       "    </tr>\n",
       "    <tr>\n",
       "      <th>13</th>\n",
       "      <td>wobes86896@neragez.com</td>\n",
       "      <td>7</td>\n",
       "      <td>faturado</td>\n",
       "      <td>2021-08-14</td>\n",
       "      <td>Jaqueta Bomber cinza</td>\n",
       "      <td>Blusas e jaquetas</td>\n",
       "      <td>1</td>\n",
       "      <td>890</td>\n",
       "      <td>890</td>\n",
       "      <td>1050</td>\n",
       "    </tr>\n",
       "    <tr>\n",
       "      <th>14</th>\n",
       "      <td>rovokap452@neragez.com</td>\n",
       "      <td>8</td>\n",
       "      <td>cancelado</td>\n",
       "      <td>2021-08-15</td>\n",
       "      <td>Calça Alfaiataria marrom</td>\n",
       "      <td>Calças</td>\n",
       "      <td>2</td>\n",
       "      <td>370</td>\n",
       "      <td>740</td>\n",
       "      <td>740</td>\n",
       "    </tr>\n",
       "    <tr>\n",
       "      <th>15</th>\n",
       "      <td>nevibo5519@neragez.com</td>\n",
       "      <td>9</td>\n",
       "      <td>faturado</td>\n",
       "      <td>2021-08-16</td>\n",
       "      <td>Bermuda Sailor</td>\n",
       "      <td>Bermuda</td>\n",
       "      <td>3</td>\n",
       "      <td>280</td>\n",
       "      <td>840</td>\n",
       "      <td>840</td>\n",
       "    </tr>\n",
       "    <tr>\n",
       "      <th>16</th>\n",
       "      <td>gobimi6239@ncdainfo.com</td>\n",
       "      <td>10</td>\n",
       "      <td>faturado</td>\n",
       "      <td>2021-08-17</td>\n",
       "      <td>Pochete listrada preta</td>\n",
       "      <td>Acessórios</td>\n",
       "      <td>1</td>\n",
       "      <td>160</td>\n",
       "      <td>160</td>\n",
       "      <td>880</td>\n",
       "    </tr>\n",
       "    <tr>\n",
       "      <th>17</th>\n",
       "      <td>gobimi6239@ncdainfo.com</td>\n",
       "      <td>10</td>\n",
       "      <td>faturado</td>\n",
       "      <td>2021-08-18</td>\n",
       "      <td>Sapato Oxford  preto</td>\n",
       "      <td>Sapatos</td>\n",
       "      <td>1</td>\n",
       "      <td>720</td>\n",
       "      <td>720</td>\n",
       "      <td>880</td>\n",
       "    </tr>\n",
       "    <tr>\n",
       "      <th>18</th>\n",
       "      <td>xerem23537@neragez.com</td>\n",
       "      <td>11</td>\n",
       "      <td>cancelado</td>\n",
       "      <td>2021-08-19</td>\n",
       "      <td>Camiseta Manga Longa</td>\n",
       "      <td>Camisetas</td>\n",
       "      <td>2</td>\n",
       "      <td>315</td>\n",
       "      <td>630</td>\n",
       "      <td>630</td>\n",
       "    </tr>\n",
       "    <tr>\n",
       "      <th>19</th>\n",
       "      <td>pegiha1363@ncdainfo.com</td>\n",
       "      <td>12</td>\n",
       "      <td>faturado</td>\n",
       "      <td>2021-08-20</td>\n",
       "      <td>Camiseta Basica</td>\n",
       "      <td>Camisetas</td>\n",
       "      <td>1</td>\n",
       "      <td>240</td>\n",
       "      <td>240</td>\n",
       "      <td>240</td>\n",
       "    </tr>\n",
       "    <tr>\n",
       "      <th>20</th>\n",
       "      <td>pegiha1363@ncdainfo.com</td>\n",
       "      <td>13</td>\n",
       "      <td>faturado</td>\n",
       "      <td>2021-08-21</td>\n",
       "      <td>Sapato Oxford  preto</td>\n",
       "      <td>Sapatos</td>\n",
       "      <td>1</td>\n",
       "      <td>720</td>\n",
       "      <td>720</td>\n",
       "      <td>720</td>\n",
       "    </tr>\n",
       "    <tr>\n",
       "      <th>21</th>\n",
       "      <td>micefo5181@ncdainfo.com</td>\n",
       "      <td>14</td>\n",
       "      <td>faturado</td>\n",
       "      <td>2021-09-01</td>\n",
       "      <td>Sobretudo Estampado marrom</td>\n",
       "      <td>Blusas e jaquetas</td>\n",
       "      <td>1</td>\n",
       "      <td>945</td>\n",
       "      <td>945</td>\n",
       "      <td>3815</td>\n",
       "    </tr>\n",
       "    <tr>\n",
       "      <th>22</th>\n",
       "      <td>micefo5181@ncdainfo.com</td>\n",
       "      <td>14</td>\n",
       "      <td>faturado</td>\n",
       "      <td>2021-09-02</td>\n",
       "      <td>Jaqueta Bomber cinza</td>\n",
       "      <td>Blusas e jaquetas</td>\n",
       "      <td>1</td>\n",
       "      <td>890</td>\n",
       "      <td>890</td>\n",
       "      <td>3815</td>\n",
       "    </tr>\n",
       "    <tr>\n",
       "      <th>23</th>\n",
       "      <td>micefo5181@ncdainfo.com</td>\n",
       "      <td>14</td>\n",
       "      <td>faturado</td>\n",
       "      <td>2021-09-03</td>\n",
       "      <td>Sobretudo Estampado marrom</td>\n",
       "      <td>Blusas e jaquetas</td>\n",
       "      <td>1</td>\n",
       "      <td>945</td>\n",
       "      <td>945</td>\n",
       "      <td>3815</td>\n",
       "    </tr>\n",
       "    <tr>\n",
       "      <th>24</th>\n",
       "      <td>micefo5181@ncdainfo.com</td>\n",
       "      <td>14</td>\n",
       "      <td>faturado</td>\n",
       "      <td>2021-09-04</td>\n",
       "      <td>Sapato Oxford  preto</td>\n",
       "      <td>Sapatos</td>\n",
       "      <td>1</td>\n",
       "      <td>720</td>\n",
       "      <td>720</td>\n",
       "      <td>3815</td>\n",
       "    </tr>\n",
       "    <tr>\n",
       "      <th>25</th>\n",
       "      <td>micefo5181@ncdainfo.com</td>\n",
       "      <td>14</td>\n",
       "      <td>faturado</td>\n",
       "      <td>2021-09-05</td>\n",
       "      <td>Camiseta Manga Longa</td>\n",
       "      <td>Camisetas</td>\n",
       "      <td>1</td>\n",
       "      <td>315</td>\n",
       "      <td>315</td>\n",
       "      <td>3815</td>\n",
       "    </tr>\n",
       "    <tr>\n",
       "      <th>26</th>\n",
       "      <td>carowa7024@nubenews.com</td>\n",
       "      <td>15</td>\n",
       "      <td>faturado</td>\n",
       "      <td>2021-09-06</td>\n",
       "      <td>Camiseta Basica</td>\n",
       "      <td>Camisetas</td>\n",
       "      <td>2</td>\n",
       "      <td>240</td>\n",
       "      <td>480</td>\n",
       "      <td>480</td>\n",
       "    </tr>\n",
       "    <tr>\n",
       "      <th>27</th>\n",
       "      <td>lihew89012@ncdainfo.com</td>\n",
       "      <td>16</td>\n",
       "      <td>faturado</td>\n",
       "      <td>2021-09-07</td>\n",
       "      <td>Sobretudo Estampado marrom</td>\n",
       "      <td>Blusas e jaquetas</td>\n",
       "      <td>1</td>\n",
       "      <td>945</td>\n",
       "      <td>945</td>\n",
       "      <td>945</td>\n",
       "    </tr>\n",
       "    <tr>\n",
       "      <th>28</th>\n",
       "      <td>tidob76426@neragez.com</td>\n",
       "      <td>17</td>\n",
       "      <td>faturado</td>\n",
       "      <td>2021-09-08</td>\n",
       "      <td>Calça Alfaiataria marrom</td>\n",
       "      <td>Calças</td>\n",
       "      <td>1</td>\n",
       "      <td>370</td>\n",
       "      <td>370</td>\n",
       "      <td>370</td>\n",
       "    </tr>\n",
       "    <tr>\n",
       "      <th>29</th>\n",
       "      <td>loyatom793@neragez.com</td>\n",
       "      <td>18</td>\n",
       "      <td>faturado</td>\n",
       "      <td>2021-09-09</td>\n",
       "      <td>Jaqueta Bomber cinza</td>\n",
       "      <td>Blusas e jaquetas</td>\n",
       "      <td>1</td>\n",
       "      <td>890</td>\n",
       "      <td>890</td>\n",
       "      <td>890</td>\n",
       "    </tr>\n",
       "    <tr>\n",
       "      <th>30</th>\n",
       "      <td>vevija8450@neragez.com</td>\n",
       "      <td>19</td>\n",
       "      <td>faturado</td>\n",
       "      <td>2021-09-10</td>\n",
       "      <td>Bermuda Sailor</td>\n",
       "      <td>Bermuda</td>\n",
       "      <td>1</td>\n",
       "      <td>280</td>\n",
       "      <td>280</td>\n",
       "      <td>280</td>\n",
       "    </tr>\n",
       "    <tr>\n",
       "      <th>31</th>\n",
       "      <td>gitexit237@neragez.com</td>\n",
       "      <td>20</td>\n",
       "      <td>cancelado</td>\n",
       "      <td>2021-09-11</td>\n",
       "      <td>Toca Tricot cinza</td>\n",
       "      <td>Acessórios</td>\n",
       "      <td>1</td>\n",
       "      <td>110</td>\n",
       "      <td>110</td>\n",
       "      <td>110</td>\n",
       "    </tr>\n",
       "    <tr>\n",
       "      <th>32</th>\n",
       "      <td>yiwaf96204@ncdainfo.com</td>\n",
       "      <td>21</td>\n",
       "      <td>faturado</td>\n",
       "      <td>2021-09-12</td>\n",
       "      <td>Carteira Couro marrom</td>\n",
       "      <td>Acessórios</td>\n",
       "      <td>1</td>\n",
       "      <td>85</td>\n",
       "      <td>85</td>\n",
       "      <td>1015</td>\n",
       "    </tr>\n",
       "    <tr>\n",
       "      <th>33</th>\n",
       "      <td>yiwaf96204@ncdainfo.com</td>\n",
       "      <td>21</td>\n",
       "      <td>faturado</td>\n",
       "      <td>2021-09-13</td>\n",
       "      <td>Calça Alfaiataria marrom</td>\n",
       "      <td>Calças</td>\n",
       "      <td>1</td>\n",
       "      <td>370</td>\n",
       "      <td>370</td>\n",
       "      <td>1015</td>\n",
       "    </tr>\n",
       "    <tr>\n",
       "      <th>34</th>\n",
       "      <td>yiwaf96204@ncdainfo.com</td>\n",
       "      <td>21</td>\n",
       "      <td>faturado</td>\n",
       "      <td>2021-09-14</td>\n",
       "      <td>Bermuda Sailor</td>\n",
       "      <td>Bermuda</td>\n",
       "      <td>2</td>\n",
       "      <td>280</td>\n",
       "      <td>560</td>\n",
       "      <td>1015</td>\n",
       "    </tr>\n",
       "    <tr>\n",
       "      <th>35</th>\n",
       "      <td>cajoro7605@ncdainfo.com</td>\n",
       "      <td>22</td>\n",
       "      <td>faturado</td>\n",
       "      <td>2021-09-15</td>\n",
       "      <td>Pochete listrada preta</td>\n",
       "      <td>Acessórios</td>\n",
       "      <td>1</td>\n",
       "      <td>160</td>\n",
       "      <td>160</td>\n",
       "      <td>1050</td>\n",
       "    </tr>\n",
       "    <tr>\n",
       "      <th>36</th>\n",
       "      <td>cajoro7605@ncdainfo.com</td>\n",
       "      <td>22</td>\n",
       "      <td>faturado</td>\n",
       "      <td>2021-09-16</td>\n",
       "      <td>Jaqueta Bomber cinza</td>\n",
       "      <td>Blusas e jaquetas</td>\n",
       "      <td>1</td>\n",
       "      <td>890</td>\n",
       "      <td>890</td>\n",
       "      <td>1050</td>\n",
       "    </tr>\n",
       "    <tr>\n",
       "      <th>37</th>\n",
       "      <td>xeton42008@neragez.com</td>\n",
       "      <td>23</td>\n",
       "      <td>faturado</td>\n",
       "      <td>2021-10-01</td>\n",
       "      <td>Sobretudo Estampado marrom</td>\n",
       "      <td>Blusas e jaquetas</td>\n",
       "      <td>1</td>\n",
       "      <td>945</td>\n",
       "      <td>945</td>\n",
       "      <td>945</td>\n",
       "    </tr>\n",
       "    <tr>\n",
       "      <th>38</th>\n",
       "      <td>cadoh81191@nubenews.com</td>\n",
       "      <td>24</td>\n",
       "      <td>faturado</td>\n",
       "      <td>2021-10-02</td>\n",
       "      <td>Sapato Oxford  preto</td>\n",
       "      <td>Sapatos</td>\n",
       "      <td>1</td>\n",
       "      <td>720</td>\n",
       "      <td>720</td>\n",
       "      <td>720</td>\n",
       "    </tr>\n",
       "    <tr>\n",
       "      <th>39</th>\n",
       "      <td>civita1065@nubenews.com</td>\n",
       "      <td>25</td>\n",
       "      <td>faturado</td>\n",
       "      <td>2021-10-03</td>\n",
       "      <td>Camiseta Manga Longa</td>\n",
       "      <td>Camisetas</td>\n",
       "      <td>2</td>\n",
       "      <td>315</td>\n",
       "      <td>630</td>\n",
       "      <td>630</td>\n",
       "    </tr>\n",
       "    <tr>\n",
       "      <th>40</th>\n",
       "      <td>pifabi1641@ncdainfo.com</td>\n",
       "      <td>26</td>\n",
       "      <td>faturado</td>\n",
       "      <td>2021-10-04</td>\n",
       "      <td>Camiseta Basica</td>\n",
       "      <td>Camisetas</td>\n",
       "      <td>1</td>\n",
       "      <td>240</td>\n",
       "      <td>240</td>\n",
       "      <td>240</td>\n",
       "    </tr>\n",
       "    <tr>\n",
       "      <th>41</th>\n",
       "      <td>sovixir541@neragez.com</td>\n",
       "      <td>27</td>\n",
       "      <td>faturado</td>\n",
       "      <td>2021-10-05</td>\n",
       "      <td>Camisa manga curta</td>\n",
       "      <td>Camisa</td>\n",
       "      <td>1</td>\n",
       "      <td>490</td>\n",
       "      <td>490</td>\n",
       "      <td>490</td>\n",
       "    </tr>\n",
       "    <tr>\n",
       "      <th>42</th>\n",
       "      <td>xolir12996@mxgsby.com</td>\n",
       "      <td>28</td>\n",
       "      <td>cancelado</td>\n",
       "      <td>2021-10-06</td>\n",
       "      <td>Calça Alfaiataria marrom</td>\n",
       "      <td>Calças</td>\n",
       "      <td>1</td>\n",
       "      <td>370</td>\n",
       "      <td>370</td>\n",
       "      <td>650</td>\n",
       "    </tr>\n",
       "    <tr>\n",
       "      <th>43</th>\n",
       "      <td>xolir12996@mxgsby.com</td>\n",
       "      <td>28</td>\n",
       "      <td>cancelado</td>\n",
       "      <td>2021-10-07</td>\n",
       "      <td>Bermuda Sailor</td>\n",
       "      <td>Bermuda</td>\n",
       "      <td>1</td>\n",
       "      <td>280</td>\n",
       "      <td>280</td>\n",
       "      <td>650</td>\n",
       "    </tr>\n",
       "    <tr>\n",
       "      <th>44</th>\n",
       "      <td>xeton42008@neragez.com</td>\n",
       "      <td>29</td>\n",
       "      <td>faturado</td>\n",
       "      <td>2021-10-08</td>\n",
       "      <td>Pochete listrada preta</td>\n",
       "      <td>Acessórios</td>\n",
       "      <td>1</td>\n",
       "      <td>160</td>\n",
       "      <td>160</td>\n",
       "      <td>160</td>\n",
       "    </tr>\n",
       "    <tr>\n",
       "      <th>45</th>\n",
       "      <td>vehemal886@nubenews.com</td>\n",
       "      <td>30</td>\n",
       "      <td>faturado</td>\n",
       "      <td>2021-10-09</td>\n",
       "      <td>Toca Tricot cinza</td>\n",
       "      <td>Acessórios</td>\n",
       "      <td>1</td>\n",
       "      <td>110</td>\n",
       "      <td>110</td>\n",
       "      <td>110</td>\n",
       "    </tr>\n",
       "    <tr>\n",
       "      <th>46</th>\n",
       "      <td>paxiyoj964@nubenews.com</td>\n",
       "      <td>31</td>\n",
       "      <td>faturado</td>\n",
       "      <td>2021-10-10</td>\n",
       "      <td>Carteira Couro marrom</td>\n",
       "      <td>Acessórios</td>\n",
       "      <td>1</td>\n",
       "      <td>85</td>\n",
       "      <td>85</td>\n",
       "      <td>1435</td>\n",
       "    </tr>\n",
       "    <tr>\n",
       "      <th>47</th>\n",
       "      <td>paxiyoj964@nubenews.com</td>\n",
       "      <td>31</td>\n",
       "      <td>faturado</td>\n",
       "      <td>2021-10-11</td>\n",
       "      <td>Sapato Oxford  preto</td>\n",
       "      <td>Sapatos</td>\n",
       "      <td>1</td>\n",
       "      <td>720</td>\n",
       "      <td>720</td>\n",
       "      <td>1435</td>\n",
       "    </tr>\n",
       "    <tr>\n",
       "      <th>48</th>\n",
       "      <td>paxiyoj964@nubenews.com</td>\n",
       "      <td>31</td>\n",
       "      <td>faturado</td>\n",
       "      <td>2021-10-12</td>\n",
       "      <td>Camiseta Manga Longa</td>\n",
       "      <td>Camisetas</td>\n",
       "      <td>2</td>\n",
       "      <td>315</td>\n",
       "      <td>630</td>\n",
       "      <td>1435</td>\n",
       "    </tr>\n",
       "    <tr>\n",
       "      <th>49</th>\n",
       "      <td>xodeb24492@ncdainfo.com</td>\n",
       "      <td>32</td>\n",
       "      <td>faturado</td>\n",
       "      <td>2021-10-13</td>\n",
       "      <td>Sapato Oxford  preto</td>\n",
       "      <td>Sapatos</td>\n",
       "      <td>1</td>\n",
       "      <td>720</td>\n",
       "      <td>720</td>\n",
       "      <td>720</td>\n",
       "    </tr>\n",
       "    <tr>\n",
       "      <th>50</th>\n",
       "      <td>yivehav767@nubenews.com</td>\n",
       "      <td>33</td>\n",
       "      <td>faturado</td>\n",
       "      <td>2021-10-14</td>\n",
       "      <td>Pochete listrada preta</td>\n",
       "      <td>Acessórios</td>\n",
       "      <td>1</td>\n",
       "      <td>160</td>\n",
       "      <td>160</td>\n",
       "      <td>475</td>\n",
       "    </tr>\n",
       "    <tr>\n",
       "      <th>51</th>\n",
       "      <td>yivehav767@nubenews.com</td>\n",
       "      <td>33</td>\n",
       "      <td>faturado</td>\n",
       "      <td>2021-10-15</td>\n",
       "      <td>Camiseta Manga Longa</td>\n",
       "      <td>Camisetas</td>\n",
       "      <td>1</td>\n",
       "      <td>315</td>\n",
       "      <td>315</td>\n",
       "      <td>475</td>\n",
       "    </tr>\n",
       "    <tr>\n",
       "      <th>52</th>\n",
       "      <td>kinaviy426@mxgsby.com</td>\n",
       "      <td>34</td>\n",
       "      <td>faturado</td>\n",
       "      <td>2021-10-13</td>\n",
       "      <td>Camiseta Basica</td>\n",
       "      <td>Camisetas</td>\n",
       "      <td>3</td>\n",
       "      <td>240</td>\n",
       "      <td>720</td>\n",
       "      <td>720</td>\n",
       "    </tr>\n",
       "    <tr>\n",
       "      <th>53</th>\n",
       "      <td>sacayo3006@nubenews.com</td>\n",
       "      <td>35</td>\n",
       "      <td>cancelado</td>\n",
       "      <td>2021-10-14</td>\n",
       "      <td>Carteira Couro marrom</td>\n",
       "      <td>Acessórios</td>\n",
       "      <td>1</td>\n",
       "      <td>85</td>\n",
       "      <td>85</td>\n",
       "      <td>245</td>\n",
       "    </tr>\n",
       "    <tr>\n",
       "      <th>54</th>\n",
       "      <td>sacayo3006@nubenews.com</td>\n",
       "      <td>35</td>\n",
       "      <td>cancelado</td>\n",
       "      <td>2021-10-15</td>\n",
       "      <td>Pochete listrada preta</td>\n",
       "      <td>Acessórios</td>\n",
       "      <td>1</td>\n",
       "      <td>160</td>\n",
       "      <td>160</td>\n",
       "      <td>245</td>\n",
       "    </tr>\n",
       "    <tr>\n",
       "      <th>55</th>\n",
       "      <td>xefef87213@nubenews.com</td>\n",
       "      <td>36</td>\n",
       "      <td>faturado</td>\n",
       "      <td>2021-10-16</td>\n",
       "      <td>Camiseta Basica</td>\n",
       "      <td>Camisetas</td>\n",
       "      <td>2</td>\n",
       "      <td>240</td>\n",
       "      <td>480</td>\n",
       "      <td>480</td>\n",
       "    </tr>\n",
       "    <tr>\n",
       "      <th>56</th>\n",
       "      <td>kinaviy426@mxgsby.com</td>\n",
       "      <td>37</td>\n",
       "      <td>faturado</td>\n",
       "      <td>2021-10-17</td>\n",
       "      <td>Camiseta Basica</td>\n",
       "      <td>Camisetas</td>\n",
       "      <td>1</td>\n",
       "      <td>240</td>\n",
       "      <td>240</td>\n",
       "      <td>240</td>\n",
       "    </tr>\n",
       "    <tr>\n",
       "      <th>57</th>\n",
       "      <td>linoc19782@nubenews.com</td>\n",
       "      <td>38</td>\n",
       "      <td>faturado</td>\n",
       "      <td>2021-10-18</td>\n",
       "      <td>Sobretudo Estampado marrom</td>\n",
       "      <td>Blusas e jaquetas</td>\n",
       "      <td>1</td>\n",
       "      <td>945</td>\n",
       "      <td>945</td>\n",
       "      <td>1370</td>\n",
       "    </tr>\n",
       "    <tr>\n",
       "      <th>58</th>\n",
       "      <td>linoc19782@nubenews.com</td>\n",
       "      <td>38</td>\n",
       "      <td>faturado</td>\n",
       "      <td>2021-10-19</td>\n",
       "      <td>Toca Tricot cinza</td>\n",
       "      <td>Acessórios</td>\n",
       "      <td>1</td>\n",
       "      <td>110</td>\n",
       "      <td>110</td>\n",
       "      <td>1370</td>\n",
       "    </tr>\n",
       "    <tr>\n",
       "      <th>59</th>\n",
       "      <td>linoc19782@nubenews.com</td>\n",
       "      <td>38</td>\n",
       "      <td>faturado</td>\n",
       "      <td>2021-10-20</td>\n",
       "      <td>Camiseta Manga Longa</td>\n",
       "      <td>Camisetas</td>\n",
       "      <td>1</td>\n",
       "      <td>315</td>\n",
       "      <td>315</td>\n",
       "      <td>1370</td>\n",
       "    </tr>\n",
       "  </tbody>\n",
       "</table>\n",
       "</div>"
      ],
      "text/plain": [
       "                     email   id de pedido status do pedido data de criação  \\\n",
       "0    wobes86896@neragez.com             1         faturado      2021-08-01   \n",
       "1    wobes86896@neragez.com             1         faturado      2021-08-02   \n",
       "2    wobes86896@neragez.com             1         faturado      2021-08-03   \n",
       "3   wekevi8743@nubenews.com             2         faturado      2021-08-04   \n",
       "4   wekevi8743@nubenews.com             2         faturado      2021-08-05   \n",
       "5    ginamo3275@neragez.com             3        cancelado      2021-08-06   \n",
       "6    rovokap452@neragez.com             4         faturado      2021-08-07   \n",
       "7   wekevi8743@nubenews.com             5         faturado      2021-08-08   \n",
       "8   gobimi6239@ncdainfo.com             6         faturado      2021-08-09   \n",
       "9   gobimi6239@ncdainfo.com             6         faturado      2021-08-10   \n",
       "10  gobimi6239@ncdainfo.com             6         faturado      2021-08-11   \n",
       "11  gobimi6239@ncdainfo.com             6         faturado      2021-08-12   \n",
       "12   wobes86896@neragez.com             7         faturado      2021-08-13   \n",
       "13   wobes86896@neragez.com             7         faturado      2021-08-14   \n",
       "14   rovokap452@neragez.com             8        cancelado      2021-08-15   \n",
       "15   nevibo5519@neragez.com             9         faturado      2021-08-16   \n",
       "16  gobimi6239@ncdainfo.com            10         faturado      2021-08-17   \n",
       "17  gobimi6239@ncdainfo.com            10         faturado      2021-08-18   \n",
       "18   xerem23537@neragez.com            11        cancelado      2021-08-19   \n",
       "19  pegiha1363@ncdainfo.com            12         faturado      2021-08-20   \n",
       "20  pegiha1363@ncdainfo.com            13         faturado      2021-08-21   \n",
       "21  micefo5181@ncdainfo.com            14         faturado      2021-09-01   \n",
       "22  micefo5181@ncdainfo.com            14         faturado      2021-09-02   \n",
       "23  micefo5181@ncdainfo.com            14         faturado      2021-09-03   \n",
       "24  micefo5181@ncdainfo.com            14         faturado      2021-09-04   \n",
       "25  micefo5181@ncdainfo.com            14         faturado      2021-09-05   \n",
       "26  carowa7024@nubenews.com            15         faturado      2021-09-06   \n",
       "27  lihew89012@ncdainfo.com            16         faturado      2021-09-07   \n",
       "28   tidob76426@neragez.com            17         faturado      2021-09-08   \n",
       "29   loyatom793@neragez.com            18         faturado      2021-09-09   \n",
       "30   vevija8450@neragez.com            19         faturado      2021-09-10   \n",
       "31   gitexit237@neragez.com            20        cancelado      2021-09-11   \n",
       "32  yiwaf96204@ncdainfo.com            21         faturado      2021-09-12   \n",
       "33  yiwaf96204@ncdainfo.com            21         faturado      2021-09-13   \n",
       "34  yiwaf96204@ncdainfo.com            21         faturado      2021-09-14   \n",
       "35  cajoro7605@ncdainfo.com            22         faturado      2021-09-15   \n",
       "36  cajoro7605@ncdainfo.com            22         faturado      2021-09-16   \n",
       "37   xeton42008@neragez.com            23         faturado      2021-10-01   \n",
       "38  cadoh81191@nubenews.com            24         faturado      2021-10-02   \n",
       "39  civita1065@nubenews.com            25         faturado      2021-10-03   \n",
       "40  pifabi1641@ncdainfo.com            26         faturado      2021-10-04   \n",
       "41   sovixir541@neragez.com            27         faturado      2021-10-05   \n",
       "42    xolir12996@mxgsby.com            28        cancelado      2021-10-06   \n",
       "43    xolir12996@mxgsby.com            28        cancelado      2021-10-07   \n",
       "44   xeton42008@neragez.com            29         faturado      2021-10-08   \n",
       "45  vehemal886@nubenews.com            30         faturado      2021-10-09   \n",
       "46  paxiyoj964@nubenews.com            31         faturado      2021-10-10   \n",
       "47  paxiyoj964@nubenews.com            31         faturado      2021-10-11   \n",
       "48  paxiyoj964@nubenews.com            31         faturado      2021-10-12   \n",
       "49  xodeb24492@ncdainfo.com            32         faturado      2021-10-13   \n",
       "50  yivehav767@nubenews.com            33         faturado      2021-10-14   \n",
       "51  yivehav767@nubenews.com            33         faturado      2021-10-15   \n",
       "52    kinaviy426@mxgsby.com            34         faturado      2021-10-13   \n",
       "53  sacayo3006@nubenews.com            35        cancelado      2021-10-14   \n",
       "54  sacayo3006@nubenews.com            35        cancelado      2021-10-15   \n",
       "55  xefef87213@nubenews.com            36         faturado      2021-10-16   \n",
       "56    kinaviy426@mxgsby.com            37         faturado      2021-10-17   \n",
       "57  linoc19782@nubenews.com            38         faturado      2021-10-18   \n",
       "58  linoc19782@nubenews.com            38         faturado      2021-10-19   \n",
       "59  linoc19782@nubenews.com            38         faturado      2021-10-20   \n",
       "\n",
       "                          item           categoria  quantidade  \\\n",
       "0          Jaqueta Bomber cinza  Blusas e jaquetas           1   \n",
       "1   Sobretudo Estampado marrom   Blusas e jaquetas           1   \n",
       "2          Sapato Oxford  preto            Sapatos           1   \n",
       "3         Camiseta Manga Longa           Camisetas           2   \n",
       "4               Camiseta Basica          Camisetas           1   \n",
       "5            Camisa manga curta             Camisa           1   \n",
       "6      Calça Alfaiataria marrom             Calças           2   \n",
       "7               Bermuda Sailor             Bermuda           3   \n",
       "8        Pochete listrada preta         Acessórios           1   \n",
       "9             Toca Tricot cinza         Acessórios           1   \n",
       "10        Carteira Couro marrom         Acessórios           1   \n",
       "11              Bermuda Sailor             Bermuda           1   \n",
       "12       Pochete listrada preta         Acessórios           1   \n",
       "13         Jaqueta Bomber cinza  Blusas e jaquetas           1   \n",
       "14     Calça Alfaiataria marrom             Calças           2   \n",
       "15              Bermuda Sailor             Bermuda           3   \n",
       "16       Pochete listrada preta         Acessórios           1   \n",
       "17         Sapato Oxford  preto            Sapatos           1   \n",
       "18        Camiseta Manga Longa           Camisetas           2   \n",
       "19              Camiseta Basica          Camisetas           1   \n",
       "20         Sapato Oxford  preto            Sapatos           1   \n",
       "21  Sobretudo Estampado marrom   Blusas e jaquetas           1   \n",
       "22         Jaqueta Bomber cinza  Blusas e jaquetas           1   \n",
       "23  Sobretudo Estampado marrom   Blusas e jaquetas           1   \n",
       "24         Sapato Oxford  preto            Sapatos           1   \n",
       "25        Camiseta Manga Longa           Camisetas           1   \n",
       "26              Camiseta Basica          Camisetas           2   \n",
       "27  Sobretudo Estampado marrom   Blusas e jaquetas           1   \n",
       "28     Calça Alfaiataria marrom             Calças           1   \n",
       "29         Jaqueta Bomber cinza  Blusas e jaquetas           1   \n",
       "30              Bermuda Sailor             Bermuda           1   \n",
       "31            Toca Tricot cinza         Acessórios           1   \n",
       "32        Carteira Couro marrom         Acessórios           1   \n",
       "33     Calça Alfaiataria marrom             Calças           1   \n",
       "34              Bermuda Sailor             Bermuda           2   \n",
       "35       Pochete listrada preta         Acessórios           1   \n",
       "36         Jaqueta Bomber cinza  Blusas e jaquetas           1   \n",
       "37  Sobretudo Estampado marrom   Blusas e jaquetas           1   \n",
       "38         Sapato Oxford  preto            Sapatos           1   \n",
       "39        Camiseta Manga Longa           Camisetas           2   \n",
       "40              Camiseta Basica          Camisetas           1   \n",
       "41           Camisa manga curta             Camisa           1   \n",
       "42     Calça Alfaiataria marrom             Calças           1   \n",
       "43              Bermuda Sailor             Bermuda           1   \n",
       "44       Pochete listrada preta         Acessórios           1   \n",
       "45            Toca Tricot cinza         Acessórios           1   \n",
       "46        Carteira Couro marrom         Acessórios           1   \n",
       "47         Sapato Oxford  preto            Sapatos           1   \n",
       "48        Camiseta Manga Longa           Camisetas           2   \n",
       "49         Sapato Oxford  preto            Sapatos           1   \n",
       "50       Pochete listrada preta         Acessórios           1   \n",
       "51        Camiseta Manga Longa           Camisetas           1   \n",
       "52              Camiseta Basica          Camisetas           3   \n",
       "53        Carteira Couro marrom         Acessórios           1   \n",
       "54       Pochete listrada preta         Acessórios           1   \n",
       "55              Camiseta Basica          Camisetas           2   \n",
       "56              Camiseta Basica          Camisetas           1   \n",
       "57  Sobretudo Estampado marrom   Blusas e jaquetas           1   \n",
       "58            Toca Tricot cinza         Acessórios           1   \n",
       "59        Camiseta Manga Longa           Camisetas           1   \n",
       "\n",
       "    preço unitário  subtotal  preço total do pedido  \n",
       "0              890       890                   2555  \n",
       "1              945       945                   2555  \n",
       "2              720       720                   2555  \n",
       "3              315       630                    870  \n",
       "4              240       240                    870  \n",
       "5              490       490                    490  \n",
       "6              370       740                    740  \n",
       "7              280       840                    840  \n",
       "8              160       160                    635  \n",
       "9              110       110                    635  \n",
       "10              85        85                    635  \n",
       "11             280       280                    635  \n",
       "12             160       160                   1050  \n",
       "13             890       890                   1050  \n",
       "14             370       740                    740  \n",
       "15             280       840                    840  \n",
       "16             160       160                    880  \n",
       "17             720       720                    880  \n",
       "18             315       630                    630  \n",
       "19             240       240                    240  \n",
       "20             720       720                    720  \n",
       "21             945       945                   3815  \n",
       "22             890       890                   3815  \n",
       "23             945       945                   3815  \n",
       "24             720       720                   3815  \n",
       "25             315       315                   3815  \n",
       "26             240       480                    480  \n",
       "27             945       945                    945  \n",
       "28             370       370                    370  \n",
       "29             890       890                    890  \n",
       "30             280       280                    280  \n",
       "31             110       110                    110  \n",
       "32              85        85                   1015  \n",
       "33             370       370                   1015  \n",
       "34             280       560                   1015  \n",
       "35             160       160                   1050  \n",
       "36             890       890                   1050  \n",
       "37             945       945                    945  \n",
       "38             720       720                    720  \n",
       "39             315       630                    630  \n",
       "40             240       240                    240  \n",
       "41             490       490                    490  \n",
       "42             370       370                    650  \n",
       "43             280       280                    650  \n",
       "44             160       160                    160  \n",
       "45             110       110                    110  \n",
       "46              85        85                   1435  \n",
       "47             720       720                   1435  \n",
       "48             315       630                   1435  \n",
       "49             720       720                    720  \n",
       "50             160       160                    475  \n",
       "51             315       315                    475  \n",
       "52             240       720                    720  \n",
       "53              85        85                    245  \n",
       "54             160       160                    245  \n",
       "55             240       480                    480  \n",
       "56             240       240                    240  \n",
       "57             945       945                   1370  \n",
       "58             110       110                   1370  \n",
       "59             315       315                   1370  "
      ]
     },
     "execution_count": 3,
     "metadata": {},
     "output_type": "execute_result"
    }
   ],
   "source": [
    "dados"
   ]
  },
  {
   "cell_type": "code",
   "execution_count": 5,
   "metadata": {},
   "outputs": [
    {
     "data": {
      "text/plain": [
       "email                            object\n",
       "id de pedido                      int64\n",
       "status do pedido                 object\n",
       "data de criação          datetime64[ns]\n",
       "item                             object\n",
       "categoria                        object\n",
       "quantidade                        int64\n",
       "preço unitário                    int64\n",
       "subtotal                          int64\n",
       "preço total do pedido             int64\n",
       "dtype: object"
      ]
     },
     "execution_count": 5,
     "metadata": {},
     "output_type": "execute_result"
    }
   ],
   "source": [
    "dados.dtypes"
   ]
  },
  {
   "cell_type": "code",
   "execution_count": 6,
   "metadata": {},
   "outputs": [
    {
     "data": {
      "text/html": [
       "<div>\n",
       "<style scoped>\n",
       "    .dataframe tbody tr th:only-of-type {\n",
       "        vertical-align: middle;\n",
       "    }\n",
       "\n",
       "    .dataframe tbody tr th {\n",
       "        vertical-align: top;\n",
       "    }\n",
       "\n",
       "    .dataframe thead th {\n",
       "        text-align: right;\n",
       "    }\n",
       "</style>\n",
       "<table border=\"1\" class=\"dataframe\">\n",
       "  <thead>\n",
       "    <tr style=\"text-align: right;\">\n",
       "      <th></th>\n",
       "      <th>email</th>\n",
       "      <th>id de pedido</th>\n",
       "      <th>status do pedido</th>\n",
       "      <th>data de criação</th>\n",
       "      <th>item</th>\n",
       "      <th>categoria</th>\n",
       "      <th>quantidade</th>\n",
       "      <th>preço unitário</th>\n",
       "      <th>subtotal</th>\n",
       "      <th>preço total do pedido</th>\n",
       "    </tr>\n",
       "  </thead>\n",
       "  <tbody>\n",
       "    <tr>\n",
       "      <th>0</th>\n",
       "      <td>wobes86896@neragez.com</td>\n",
       "      <td>1</td>\n",
       "      <td>faturado</td>\n",
       "      <td>2021-08-01</td>\n",
       "      <td>Jaqueta Bomber cinza</td>\n",
       "      <td>Blusas e jaquetas</td>\n",
       "      <td>1</td>\n",
       "      <td>890</td>\n",
       "      <td>890</td>\n",
       "      <td>2555</td>\n",
       "    </tr>\n",
       "    <tr>\n",
       "      <th>1</th>\n",
       "      <td>wobes86896@neragez.com</td>\n",
       "      <td>1</td>\n",
       "      <td>faturado</td>\n",
       "      <td>2021-08-02</td>\n",
       "      <td>Sobretudo Estampado marrom</td>\n",
       "      <td>Blusas e jaquetas</td>\n",
       "      <td>1</td>\n",
       "      <td>945</td>\n",
       "      <td>945</td>\n",
       "      <td>2555</td>\n",
       "    </tr>\n",
       "    <tr>\n",
       "      <th>2</th>\n",
       "      <td>wobes86896@neragez.com</td>\n",
       "      <td>1</td>\n",
       "      <td>faturado</td>\n",
       "      <td>2021-08-03</td>\n",
       "      <td>Sapato Oxford  preto</td>\n",
       "      <td>Sapatos</td>\n",
       "      <td>1</td>\n",
       "      <td>720</td>\n",
       "      <td>720</td>\n",
       "      <td>2555</td>\n",
       "    </tr>\n",
       "    <tr>\n",
       "      <th>3</th>\n",
       "      <td>wekevi8743@nubenews.com</td>\n",
       "      <td>2</td>\n",
       "      <td>faturado</td>\n",
       "      <td>2021-08-04</td>\n",
       "      <td>Camiseta Manga Longa</td>\n",
       "      <td>Camisetas</td>\n",
       "      <td>2</td>\n",
       "      <td>315</td>\n",
       "      <td>630</td>\n",
       "      <td>870</td>\n",
       "    </tr>\n",
       "    <tr>\n",
       "      <th>4</th>\n",
       "      <td>wekevi8743@nubenews.com</td>\n",
       "      <td>2</td>\n",
       "      <td>faturado</td>\n",
       "      <td>2021-08-05</td>\n",
       "      <td>Camiseta Basica</td>\n",
       "      <td>Camisetas</td>\n",
       "      <td>1</td>\n",
       "      <td>240</td>\n",
       "      <td>240</td>\n",
       "      <td>870</td>\n",
       "    </tr>\n",
       "  </tbody>\n",
       "</table>\n",
       "</div>"
      ],
      "text/plain": [
       "                    email   id de pedido status do pedido data de criação  \\\n",
       "0   wobes86896@neragez.com             1         faturado      2021-08-01   \n",
       "1   wobes86896@neragez.com             1         faturado      2021-08-02   \n",
       "2   wobes86896@neragez.com             1         faturado      2021-08-03   \n",
       "3  wekevi8743@nubenews.com             2         faturado      2021-08-04   \n",
       "4  wekevi8743@nubenews.com             2         faturado      2021-08-05   \n",
       "\n",
       "                         item           categoria  quantidade  preço unitário  \\\n",
       "0         Jaqueta Bomber cinza  Blusas e jaquetas           1             890   \n",
       "1  Sobretudo Estampado marrom   Blusas e jaquetas           1             945   \n",
       "2         Sapato Oxford  preto            Sapatos           1             720   \n",
       "3        Camiseta Manga Longa           Camisetas           2             315   \n",
       "4              Camiseta Basica          Camisetas           1             240   \n",
       "\n",
       "   subtotal  preço total do pedido  \n",
       "0       890                   2555  \n",
       "1       945                   2555  \n",
       "2       720                   2555  \n",
       "3       630                    870  \n",
       "4       240                    870  "
      ]
     },
     "execution_count": 6,
     "metadata": {},
     "output_type": "execute_result"
    }
   ],
   "source": [
    "dados.head()"
   ]
  },
  {
   "cell_type": "code",
   "execution_count": 7,
   "metadata": {},
   "outputs": [
    {
     "data": {
      "text/html": [
       "<div>\n",
       "<style scoped>\n",
       "    .dataframe tbody tr th:only-of-type {\n",
       "        vertical-align: middle;\n",
       "    }\n",
       "\n",
       "    .dataframe tbody tr th {\n",
       "        vertical-align: top;\n",
       "    }\n",
       "\n",
       "    .dataframe thead th {\n",
       "        text-align: right;\n",
       "    }\n",
       "</style>\n",
       "<table border=\"1\" class=\"dataframe\">\n",
       "  <thead>\n",
       "    <tr style=\"text-align: right;\">\n",
       "      <th></th>\n",
       "      <th>categoria</th>\n",
       "      <th>subtotal</th>\n",
       "    </tr>\n",
       "  </thead>\n",
       "  <tbody>\n",
       "    <tr>\n",
       "      <th>0</th>\n",
       "      <td>Blusas e jaquetas</td>\n",
       "      <td>10120</td>\n",
       "    </tr>\n",
       "    <tr>\n",
       "      <th>1</th>\n",
       "      <td>Camisetas</td>\n",
       "      <td>6105</td>\n",
       "    </tr>\n",
       "    <tr>\n",
       "      <th>2</th>\n",
       "      <td>Sapatos</td>\n",
       "      <td>5040</td>\n",
       "    </tr>\n",
       "    <tr>\n",
       "      <th>3</th>\n",
       "      <td>Bermuda</td>\n",
       "      <td>3080</td>\n",
       "    </tr>\n",
       "    <tr>\n",
       "      <th>4</th>\n",
       "      <td>Calças</td>\n",
       "      <td>2590</td>\n",
       "    </tr>\n",
       "    <tr>\n",
       "      <th>5</th>\n",
       "      <td>Acessórios</td>\n",
       "      <td>1900</td>\n",
       "    </tr>\n",
       "    <tr>\n",
       "      <th>6</th>\n",
       "      <td>Camisa</td>\n",
       "      <td>980</td>\n",
       "    </tr>\n",
       "  </tbody>\n",
       "</table>\n",
       "</div>"
      ],
      "text/plain": [
       "           categoria  subtotal\n",
       "0  Blusas e jaquetas     10120\n",
       "1          Camisetas      6105\n",
       "2            Sapatos      5040\n",
       "3            Bermuda      3080\n",
       "4             Calças      2590\n",
       "5         Acessórios      1900\n",
       "6             Camisa       980"
      ]
     },
     "execution_count": 7,
     "metadata": {},
     "output_type": "execute_result"
    }
   ],
   "source": [
    "dados[['categoria', 'subtotal']].groupby('categoria').sum().sort_values(by='subtotal', ascending=False).reset_index()"
   ]
  },
  {
   "cell_type": "code",
   "execution_count": 8,
   "metadata": {},
   "outputs": [
    {
     "data": {
      "text/html": [
       "<div>\n",
       "<style scoped>\n",
       "    .dataframe tbody tr th:only-of-type {\n",
       "        vertical-align: middle;\n",
       "    }\n",
       "\n",
       "    .dataframe tbody tr th {\n",
       "        vertical-align: top;\n",
       "    }\n",
       "\n",
       "    .dataframe thead th {\n",
       "        text-align: right;\n",
       "    }\n",
       "</style>\n",
       "<table border=\"1\" class=\"dataframe\">\n",
       "  <thead>\n",
       "    <tr style=\"text-align: right;\">\n",
       "      <th></th>\n",
       "      <th>categoria</th>\n",
       "      <th>quantidade</th>\n",
       "    </tr>\n",
       "  </thead>\n",
       "  <tbody>\n",
       "    <tr>\n",
       "      <th>0</th>\n",
       "      <td>Camisetas</td>\n",
       "      <td>22</td>\n",
       "    </tr>\n",
       "    <tr>\n",
       "      <th>1</th>\n",
       "      <td>Acessórios</td>\n",
       "      <td>15</td>\n",
       "    </tr>\n",
       "    <tr>\n",
       "      <th>2</th>\n",
       "      <td>Bermuda</td>\n",
       "      <td>11</td>\n",
       "    </tr>\n",
       "    <tr>\n",
       "      <th>3</th>\n",
       "      <td>Blusas e jaquetas</td>\n",
       "      <td>11</td>\n",
       "    </tr>\n",
       "    <tr>\n",
       "      <th>4</th>\n",
       "      <td>Calças</td>\n",
       "      <td>7</td>\n",
       "    </tr>\n",
       "    <tr>\n",
       "      <th>5</th>\n",
       "      <td>Sapatos</td>\n",
       "      <td>7</td>\n",
       "    </tr>\n",
       "    <tr>\n",
       "      <th>6</th>\n",
       "      <td>Camisa</td>\n",
       "      <td>2</td>\n",
       "    </tr>\n",
       "  </tbody>\n",
       "</table>\n",
       "</div>"
      ],
      "text/plain": [
       "           categoria  quantidade\n",
       "0          Camisetas          22\n",
       "1         Acessórios          15\n",
       "2            Bermuda          11\n",
       "3  Blusas e jaquetas          11\n",
       "4             Calças           7\n",
       "5            Sapatos           7\n",
       "6             Camisa           2"
      ]
     },
     "execution_count": 8,
     "metadata": {},
     "output_type": "execute_result"
    }
   ],
   "source": [
    "dados[['categoria', 'quantidade']].groupby('categoria').sum().sort_values(by='quantidade', ascending=False).reset_index()"
   ]
  },
  {
   "cell_type": "code",
   "execution_count": 9,
   "metadata": {},
   "outputs": [],
   "source": [
    "dados.columns = ['email', 'id de pedido', 'status do pedido', 'data de criação',\n",
    "       'item', 'categoria', 'quantidade', 'preço unitário', 'subtotal',\n",
    "       'preço total do pedido']"
   ]
  },
  {
   "cell_type": "code",
   "execution_count": 33,
   "metadata": {},
   "outputs": [
    {
     "data": {
      "text/html": [
       "<div>\n",
       "<style scoped>\n",
       "    .dataframe tbody tr th:only-of-type {\n",
       "        vertical-align: middle;\n",
       "    }\n",
       "\n",
       "    .dataframe tbody tr th {\n",
       "        vertical-align: top;\n",
       "    }\n",
       "\n",
       "    .dataframe thead th {\n",
       "        text-align: right;\n",
       "    }\n",
       "</style>\n",
       "<table border=\"1\" class=\"dataframe\">\n",
       "  <thead>\n",
       "    <tr style=\"text-align: right;\">\n",
       "      <th></th>\n",
       "      <th>email</th>\n",
       "      <th>preço total do pedido</th>\n",
       "    </tr>\n",
       "  </thead>\n",
       "  <tbody>\n",
       "    <tr>\n",
       "      <th>0</th>\n",
       "      <td>rovokap452@neragez.com</td>\n",
       "      <td>740.0</td>\n",
       "    </tr>\n",
       "    <tr>\n",
       "      <th>1</th>\n",
       "      <td>xolir12996@mxgsby.com</td>\n",
       "      <td>650.0</td>\n",
       "    </tr>\n",
       "    <tr>\n",
       "      <th>2</th>\n",
       "      <td>xerem23537@neragez.com</td>\n",
       "      <td>630.0</td>\n",
       "    </tr>\n",
       "    <tr>\n",
       "      <th>3</th>\n",
       "      <td>ginamo3275@neragez.com</td>\n",
       "      <td>490.0</td>\n",
       "    </tr>\n",
       "    <tr>\n",
       "      <th>4</th>\n",
       "      <td>sacayo3006@nubenews.com</td>\n",
       "      <td>245.0</td>\n",
       "    </tr>\n",
       "    <tr>\n",
       "      <th>5</th>\n",
       "      <td>gitexit237@neragez.com</td>\n",
       "      <td>110.0</td>\n",
       "    </tr>\n",
       "  </tbody>\n",
       "</table>\n",
       "</div>"
      ],
      "text/plain": [
       "                     email  preço total do pedido\n",
       "0   rovokap452@neragez.com                  740.0\n",
       "1    xolir12996@mxgsby.com                  650.0\n",
       "2   xerem23537@neragez.com                  630.0\n",
       "3   ginamo3275@neragez.com                  490.0\n",
       "4  sacayo3006@nubenews.com                  245.0\n",
       "5   gitexit237@neragez.com                  110.0"
      ]
     },
     "execution_count": 33,
     "metadata": {},
     "output_type": "execute_result"
    }
   ],
   "source": [
    "dados[dados['status do pedido']=='cancelado'][['email', 'preço total do pedido']].groupby('email').mean().sort_values(by='preço total do pedido', ascending=False).reset_index()"
   ]
  },
  {
   "cell_type": "code",
   "execution_count": 12,
   "metadata": {},
   "outputs": [
    {
     "data": {
      "text/html": [
       "<div>\n",
       "<style scoped>\n",
       "    .dataframe tbody tr th:only-of-type {\n",
       "        vertical-align: middle;\n",
       "    }\n",
       "\n",
       "    .dataframe tbody tr th {\n",
       "        vertical-align: top;\n",
       "    }\n",
       "\n",
       "    .dataframe thead th {\n",
       "        text-align: right;\n",
       "    }\n",
       "</style>\n",
       "<table border=\"1\" class=\"dataframe\">\n",
       "  <thead>\n",
       "    <tr style=\"text-align: right;\">\n",
       "      <th></th>\n",
       "      <th>email</th>\n",
       "      <th>id de pedido</th>\n",
       "      <th>status do pedido</th>\n",
       "      <th>data de criação</th>\n",
       "      <th>item</th>\n",
       "      <th>categoria</th>\n",
       "      <th>quantidade</th>\n",
       "      <th>preço unitário</th>\n",
       "      <th>subtotal</th>\n",
       "      <th>preço total do pedido</th>\n",
       "    </tr>\n",
       "  </thead>\n",
       "  <tbody>\n",
       "    <tr>\n",
       "      <th>0</th>\n",
       "      <td>wobes86896@neragez.com</td>\n",
       "      <td>1</td>\n",
       "      <td>faturado</td>\n",
       "      <td>2021-08-01</td>\n",
       "      <td>Jaqueta Bomber cinza</td>\n",
       "      <td>Blusas e jaquetas</td>\n",
       "      <td>1</td>\n",
       "      <td>890</td>\n",
       "      <td>890</td>\n",
       "      <td>2555</td>\n",
       "    </tr>\n",
       "    <tr>\n",
       "      <th>1</th>\n",
       "      <td>wobes86896@neragez.com</td>\n",
       "      <td>1</td>\n",
       "      <td>faturado</td>\n",
       "      <td>2021-08-02</td>\n",
       "      <td>Sobretudo Estampado marrom</td>\n",
       "      <td>Blusas e jaquetas</td>\n",
       "      <td>1</td>\n",
       "      <td>945</td>\n",
       "      <td>945</td>\n",
       "      <td>2555</td>\n",
       "    </tr>\n",
       "    <tr>\n",
       "      <th>2</th>\n",
       "      <td>wobes86896@neragez.com</td>\n",
       "      <td>1</td>\n",
       "      <td>faturado</td>\n",
       "      <td>2021-08-03</td>\n",
       "      <td>Sapato Oxford  preto</td>\n",
       "      <td>Sapatos</td>\n",
       "      <td>1</td>\n",
       "      <td>720</td>\n",
       "      <td>720</td>\n",
       "      <td>2555</td>\n",
       "    </tr>\n",
       "    <tr>\n",
       "      <th>3</th>\n",
       "      <td>wekevi8743@nubenews.com</td>\n",
       "      <td>2</td>\n",
       "      <td>faturado</td>\n",
       "      <td>2021-08-04</td>\n",
       "      <td>Camiseta Manga Longa</td>\n",
       "      <td>Camisetas</td>\n",
       "      <td>2</td>\n",
       "      <td>315</td>\n",
       "      <td>630</td>\n",
       "      <td>870</td>\n",
       "    </tr>\n",
       "    <tr>\n",
       "      <th>4</th>\n",
       "      <td>wekevi8743@nubenews.com</td>\n",
       "      <td>2</td>\n",
       "      <td>faturado</td>\n",
       "      <td>2021-08-05</td>\n",
       "      <td>Camiseta Basica</td>\n",
       "      <td>Camisetas</td>\n",
       "      <td>1</td>\n",
       "      <td>240</td>\n",
       "      <td>240</td>\n",
       "      <td>870</td>\n",
       "    </tr>\n",
       "  </tbody>\n",
       "</table>\n",
       "</div>"
      ],
      "text/plain": [
       "                     email  id de pedido status do pedido data de criação  \\\n",
       "0   wobes86896@neragez.com             1         faturado      2021-08-01   \n",
       "1   wobes86896@neragez.com             1         faturado      2021-08-02   \n",
       "2   wobes86896@neragez.com             1         faturado      2021-08-03   \n",
       "3  wekevi8743@nubenews.com             2         faturado      2021-08-04   \n",
       "4  wekevi8743@nubenews.com             2         faturado      2021-08-05   \n",
       "\n",
       "                          item          categoria  quantidade  preço unitário  \\\n",
       "0         Jaqueta Bomber cinza  Blusas e jaquetas           1             890   \n",
       "1  Sobretudo Estampado marrom   Blusas e jaquetas           1             945   \n",
       "2         Sapato Oxford  preto            Sapatos           1             720   \n",
       "3        Camiseta Manga Longa           Camisetas           2             315   \n",
       "4              Camiseta Basica          Camisetas           1             240   \n",
       "\n",
       "   subtotal  preço total do pedido  \n",
       "0       890                   2555  \n",
       "1       945                   2555  \n",
       "2       720                   2555  \n",
       "3       630                    870  \n",
       "4       240                    870  "
      ]
     },
     "execution_count": 12,
     "metadata": {},
     "output_type": "execute_result"
    }
   ],
   "source": [
    "dados.head()"
   ]
  },
  {
   "cell_type": "code",
   "execution_count": 13,
   "metadata": {},
   "outputs": [],
   "source": [
    "dados['mês'] = dados['data de criação'].dt.month"
   ]
  },
  {
   "cell_type": "code",
   "execution_count": 14,
   "metadata": {},
   "outputs": [],
   "source": [
    "dados_faturados = dados[dados['status do pedido']=='faturado']"
   ]
  },
  {
   "cell_type": "code",
   "execution_count": 15,
   "metadata": {},
   "outputs": [
    {
     "data": {
      "text/html": [
       "<div>\n",
       "<style scoped>\n",
       "    .dataframe tbody tr th:only-of-type {\n",
       "        vertical-align: middle;\n",
       "    }\n",
       "\n",
       "    .dataframe tbody tr th {\n",
       "        vertical-align: top;\n",
       "    }\n",
       "\n",
       "    .dataframe thead th {\n",
       "        text-align: right;\n",
       "    }\n",
       "</style>\n",
       "<table border=\"1\" class=\"dataframe\">\n",
       "  <thead>\n",
       "    <tr style=\"text-align: right;\">\n",
       "      <th></th>\n",
       "      <th>email</th>\n",
       "      <th>id de pedido</th>\n",
       "      <th>status do pedido</th>\n",
       "      <th>data de criação</th>\n",
       "      <th>item</th>\n",
       "      <th>categoria</th>\n",
       "      <th>quantidade</th>\n",
       "      <th>preço unitário</th>\n",
       "      <th>subtotal</th>\n",
       "      <th>preço total do pedido</th>\n",
       "      <th>mês</th>\n",
       "    </tr>\n",
       "  </thead>\n",
       "  <tbody>\n",
       "    <tr>\n",
       "      <th>0</th>\n",
       "      <td>wobes86896@neragez.com</td>\n",
       "      <td>1</td>\n",
       "      <td>faturado</td>\n",
       "      <td>2021-08-01</td>\n",
       "      <td>Jaqueta Bomber cinza</td>\n",
       "      <td>Blusas e jaquetas</td>\n",
       "      <td>1</td>\n",
       "      <td>890</td>\n",
       "      <td>890</td>\n",
       "      <td>2555</td>\n",
       "      <td>8</td>\n",
       "    </tr>\n",
       "    <tr>\n",
       "      <th>1</th>\n",
       "      <td>wobes86896@neragez.com</td>\n",
       "      <td>1</td>\n",
       "      <td>faturado</td>\n",
       "      <td>2021-08-02</td>\n",
       "      <td>Sobretudo Estampado marrom</td>\n",
       "      <td>Blusas e jaquetas</td>\n",
       "      <td>1</td>\n",
       "      <td>945</td>\n",
       "      <td>945</td>\n",
       "      <td>2555</td>\n",
       "      <td>8</td>\n",
       "    </tr>\n",
       "    <tr>\n",
       "      <th>2</th>\n",
       "      <td>wobes86896@neragez.com</td>\n",
       "      <td>1</td>\n",
       "      <td>faturado</td>\n",
       "      <td>2021-08-03</td>\n",
       "      <td>Sapato Oxford  preto</td>\n",
       "      <td>Sapatos</td>\n",
       "      <td>1</td>\n",
       "      <td>720</td>\n",
       "      <td>720</td>\n",
       "      <td>2555</td>\n",
       "      <td>8</td>\n",
       "    </tr>\n",
       "    <tr>\n",
       "      <th>3</th>\n",
       "      <td>wekevi8743@nubenews.com</td>\n",
       "      <td>2</td>\n",
       "      <td>faturado</td>\n",
       "      <td>2021-08-04</td>\n",
       "      <td>Camiseta Manga Longa</td>\n",
       "      <td>Camisetas</td>\n",
       "      <td>2</td>\n",
       "      <td>315</td>\n",
       "      <td>630</td>\n",
       "      <td>870</td>\n",
       "      <td>8</td>\n",
       "    </tr>\n",
       "    <tr>\n",
       "      <th>4</th>\n",
       "      <td>wekevi8743@nubenews.com</td>\n",
       "      <td>2</td>\n",
       "      <td>faturado</td>\n",
       "      <td>2021-08-05</td>\n",
       "      <td>Camiseta Basica</td>\n",
       "      <td>Camisetas</td>\n",
       "      <td>1</td>\n",
       "      <td>240</td>\n",
       "      <td>240</td>\n",
       "      <td>870</td>\n",
       "      <td>8</td>\n",
       "    </tr>\n",
       "  </tbody>\n",
       "</table>\n",
       "</div>"
      ],
      "text/plain": [
       "                     email  id de pedido status do pedido data de criação  \\\n",
       "0   wobes86896@neragez.com             1         faturado      2021-08-01   \n",
       "1   wobes86896@neragez.com             1         faturado      2021-08-02   \n",
       "2   wobes86896@neragez.com             1         faturado      2021-08-03   \n",
       "3  wekevi8743@nubenews.com             2         faturado      2021-08-04   \n",
       "4  wekevi8743@nubenews.com             2         faturado      2021-08-05   \n",
       "\n",
       "                          item          categoria  quantidade  preço unitário  \\\n",
       "0         Jaqueta Bomber cinza  Blusas e jaquetas           1             890   \n",
       "1  Sobretudo Estampado marrom   Blusas e jaquetas           1             945   \n",
       "2         Sapato Oxford  preto            Sapatos           1             720   \n",
       "3        Camiseta Manga Longa           Camisetas           2             315   \n",
       "4              Camiseta Basica          Camisetas           1             240   \n",
       "\n",
       "   subtotal  preço total do pedido  mês  \n",
       "0       890                   2555    8  \n",
       "1       945                   2555    8  \n",
       "2       720                   2555    8  \n",
       "3       630                    870    8  \n",
       "4       240                    870    8  "
      ]
     },
     "execution_count": 15,
     "metadata": {},
     "output_type": "execute_result"
    }
   ],
   "source": [
    "dados_faturados.head()"
   ]
  },
  {
   "cell_type": "code",
   "execution_count": 16,
   "metadata": {},
   "outputs": [
    {
     "data": {
      "text/html": [
       "<div>\n",
       "<style scoped>\n",
       "    .dataframe tbody tr th:only-of-type {\n",
       "        vertical-align: middle;\n",
       "    }\n",
       "\n",
       "    .dataframe tbody tr th {\n",
       "        vertical-align: top;\n",
       "    }\n",
       "\n",
       "    .dataframe thead th {\n",
       "        text-align: right;\n",
       "    }\n",
       "</style>\n",
       "<table border=\"1\" class=\"dataframe\">\n",
       "  <thead>\n",
       "    <tr style=\"text-align: right;\">\n",
       "      <th></th>\n",
       "      <th>mês</th>\n",
       "      <th>quantidade</th>\n",
       "    </tr>\n",
       "  </thead>\n",
       "  <tbody>\n",
       "    <tr>\n",
       "      <th>0</th>\n",
       "      <td>8</td>\n",
       "      <td>24</td>\n",
       "    </tr>\n",
       "    <tr>\n",
       "      <th>1</th>\n",
       "      <td>9</td>\n",
       "      <td>17</td>\n",
       "    </tr>\n",
       "    <tr>\n",
       "      <th>2</th>\n",
       "      <td>10</td>\n",
       "      <td>24</td>\n",
       "    </tr>\n",
       "  </tbody>\n",
       "</table>\n",
       "</div>"
      ],
      "text/plain": [
       "   mês  quantidade\n",
       "0    8          24\n",
       "1    9          17\n",
       "2   10          24"
      ]
     },
     "execution_count": 16,
     "metadata": {},
     "output_type": "execute_result"
    }
   ],
   "source": [
    "# Itens vendidos por mês\n",
    "dados_faturados[['mês', 'quantidade']].groupby('mês').sum().reset_index()"
   ]
  },
  {
   "cell_type": "code",
   "execution_count": 17,
   "metadata": {},
   "outputs": [
    {
     "data": {
      "text/html": [
       "<div>\n",
       "<style scoped>\n",
       "    .dataframe tbody tr th:only-of-type {\n",
       "        vertical-align: middle;\n",
       "    }\n",
       "\n",
       "    .dataframe tbody tr th {\n",
       "        vertical-align: top;\n",
       "    }\n",
       "\n",
       "    .dataframe thead th {\n",
       "        text-align: right;\n",
       "    }\n",
       "</style>\n",
       "<table border=\"1\" class=\"dataframe\">\n",
       "  <thead>\n",
       "    <tr style=\"text-align: right;\">\n",
       "      <th></th>\n",
       "      <th>mês</th>\n",
       "      <th>email</th>\n",
       "    </tr>\n",
       "  </thead>\n",
       "  <tbody>\n",
       "    <tr>\n",
       "      <th>0</th>\n",
       "      <td>8</td>\n",
       "      <td>6</td>\n",
       "    </tr>\n",
       "    <tr>\n",
       "      <th>1</th>\n",
       "      <td>9</td>\n",
       "      <td>8</td>\n",
       "    </tr>\n",
       "    <tr>\n",
       "      <th>2</th>\n",
       "      <td>10</td>\n",
       "      <td>12</td>\n",
       "    </tr>\n",
       "  </tbody>\n",
       "</table>\n",
       "</div>"
      ],
      "text/plain": [
       "   mês  email\n",
       "0    8      6\n",
       "1    9      8\n",
       "2   10     12"
      ]
     },
     "execution_count": 17,
     "metadata": {},
     "output_type": "execute_result"
    }
   ],
   "source": [
    "# Clientes distintos por mês\n",
    "dados_faturados[['mês', 'email']].groupby('mês').nunique().reset_index()"
   ]
  },
  {
   "cell_type": "code",
   "execution_count": 18,
   "metadata": {},
   "outputs": [
    {
     "data": {
      "text/html": [
       "<div>\n",
       "<style scoped>\n",
       "    .dataframe tbody tr th:only-of-type {\n",
       "        vertical-align: middle;\n",
       "    }\n",
       "\n",
       "    .dataframe tbody tr th {\n",
       "        vertical-align: top;\n",
       "    }\n",
       "\n",
       "    .dataframe thead th {\n",
       "        text-align: right;\n",
       "    }\n",
       "</style>\n",
       "<table border=\"1\" class=\"dataframe\">\n",
       "  <thead>\n",
       "    <tr style=\"text-align: right;\">\n",
       "      <th></th>\n",
       "      <th>mês</th>\n",
       "      <th>id de pedido</th>\n",
       "    </tr>\n",
       "  </thead>\n",
       "  <tbody>\n",
       "    <tr>\n",
       "      <th>0</th>\n",
       "      <td>8</td>\n",
       "      <td>10</td>\n",
       "    </tr>\n",
       "    <tr>\n",
       "      <th>1</th>\n",
       "      <td>9</td>\n",
       "      <td>8</td>\n",
       "    </tr>\n",
       "    <tr>\n",
       "      <th>2</th>\n",
       "      <td>10</td>\n",
       "      <td>14</td>\n",
       "    </tr>\n",
       "  </tbody>\n",
       "</table>\n",
       "</div>"
      ],
      "text/plain": [
       "   mês  id de pedido\n",
       "0    8            10\n",
       "1    9             8\n",
       "2   10            14"
      ]
     },
     "execution_count": 18,
     "metadata": {},
     "output_type": "execute_result"
    }
   ],
   "source": [
    "# Pedidos distintos por mês\n",
    "dados_faturados[['mês', 'id de pedido']].groupby('mês').nunique().reset_index()"
   ]
  },
  {
   "cell_type": "code",
   "execution_count": 19,
   "metadata": {},
   "outputs": [
    {
     "data": {
      "text/html": [
       "<div>\n",
       "<style scoped>\n",
       "    .dataframe tbody tr th:only-of-type {\n",
       "        vertical-align: middle;\n",
       "    }\n",
       "\n",
       "    .dataframe tbody tr th {\n",
       "        vertical-align: top;\n",
       "    }\n",
       "\n",
       "    .dataframe thead th {\n",
       "        text-align: right;\n",
       "    }\n",
       "</style>\n",
       "<table border=\"1\" class=\"dataframe\">\n",
       "  <thead>\n",
       "    <tr style=\"text-align: right;\">\n",
       "      <th></th>\n",
       "      <th>mês</th>\n",
       "      <th>preço unitário</th>\n",
       "    </tr>\n",
       "  </thead>\n",
       "  <tbody>\n",
       "    <tr>\n",
       "      <th>0</th>\n",
       "      <td>8</td>\n",
       "      <td>420.277778</td>\n",
       "    </tr>\n",
       "    <tr>\n",
       "      <th>1</th>\n",
       "      <td>9</td>\n",
       "      <td>555.000000</td>\n",
       "    </tr>\n",
       "    <tr>\n",
       "      <th>2</th>\n",
       "      <td>10</td>\n",
       "      <td>388.684211</td>\n",
       "    </tr>\n",
       "  </tbody>\n",
       "</table>\n",
       "</div>"
      ],
      "text/plain": [
       "   mês  preço unitário\n",
       "0    8      420.277778\n",
       "1    9      555.000000\n",
       "2   10      388.684211"
      ]
     },
     "execution_count": 19,
     "metadata": {},
     "output_type": "execute_result"
    }
   ],
   "source": [
    "# Preço unitário médio por mês\n",
    "dados_faturados[['mês', 'preço unitário']].groupby('mês').mean().reset_index()"
   ]
  },
  {
   "cell_type": "code",
   "execution_count": 20,
   "metadata": {},
   "outputs": [
    {
     "data": {
      "text/html": [
       "<div>\n",
       "<style scoped>\n",
       "    .dataframe tbody tr th:only-of-type {\n",
       "        vertical-align: middle;\n",
       "    }\n",
       "\n",
       "    .dataframe tbody tr th {\n",
       "        vertical-align: top;\n",
       "    }\n",
       "\n",
       "    .dataframe thead th {\n",
       "        text-align: right;\n",
       "    }\n",
       "</style>\n",
       "<table border=\"1\" class=\"dataframe\">\n",
       "  <thead>\n",
       "    <tr style=\"text-align: right;\">\n",
       "      <th></th>\n",
       "      <th>mês</th>\n",
       "      <th>preço total do pedido</th>\n",
       "    </tr>\n",
       "  </thead>\n",
       "  <tbody>\n",
       "    <tr>\n",
       "      <th>0</th>\n",
       "      <td>8</td>\n",
       "      <td>1065.833333</td>\n",
       "    </tr>\n",
       "    <tr>\n",
       "      <th>1</th>\n",
       "      <td>9</td>\n",
       "      <td>1812.333333</td>\n",
       "    </tr>\n",
       "    <tr>\n",
       "      <th>2</th>\n",
       "      <td>10</td>\n",
       "      <td>780.000000</td>\n",
       "    </tr>\n",
       "  </tbody>\n",
       "</table>\n",
       "</div>"
      ],
      "text/plain": [
       "   mês  preço total do pedido\n",
       "0    8            1065.833333\n",
       "1    9            1812.333333\n",
       "2   10             780.000000"
      ]
     },
     "execution_count": 20,
     "metadata": {},
     "output_type": "execute_result"
    }
   ],
   "source": [
    "# Preço total médio por mês\n",
    "dados_faturados[['mês', 'preço total do pedido']].groupby('mês').mean().reset_index()"
   ]
  },
  {
   "cell_type": "code",
   "execution_count": 21,
   "metadata": {},
   "outputs": [
    {
     "data": {
      "text/html": [
       "<div>\n",
       "<style scoped>\n",
       "    .dataframe tbody tr th:only-of-type {\n",
       "        vertical-align: middle;\n",
       "    }\n",
       "\n",
       "    .dataframe tbody tr th {\n",
       "        vertical-align: top;\n",
       "    }\n",
       "\n",
       "    .dataframe thead th {\n",
       "        text-align: right;\n",
       "    }\n",
       "</style>\n",
       "<table border=\"1\" class=\"dataframe\">\n",
       "  <thead>\n",
       "    <tr style=\"text-align: right;\">\n",
       "      <th></th>\n",
       "      <th>mês</th>\n",
       "      <th>categoria</th>\n",
       "      <th>item</th>\n",
       "      <th>preço unitário</th>\n",
       "    </tr>\n",
       "  </thead>\n",
       "  <tbody>\n",
       "    <tr>\n",
       "      <th>0</th>\n",
       "      <td>8</td>\n",
       "      <td>Acessórios</td>\n",
       "      <td>3</td>\n",
       "      <td>135.00</td>\n",
       "    </tr>\n",
       "    <tr>\n",
       "      <th>1</th>\n",
       "      <td>8</td>\n",
       "      <td>Bermuda</td>\n",
       "      <td>1</td>\n",
       "      <td>280.00</td>\n",
       "    </tr>\n",
       "    <tr>\n",
       "      <th>2</th>\n",
       "      <td>8</td>\n",
       "      <td>Blusas e jaquetas</td>\n",
       "      <td>2</td>\n",
       "      <td>908.33</td>\n",
       "    </tr>\n",
       "    <tr>\n",
       "      <th>3</th>\n",
       "      <td>8</td>\n",
       "      <td>Calças</td>\n",
       "      <td>1</td>\n",
       "      <td>370.00</td>\n",
       "    </tr>\n",
       "    <tr>\n",
       "      <th>4</th>\n",
       "      <td>8</td>\n",
       "      <td>Camisetas</td>\n",
       "      <td>2</td>\n",
       "      <td>265.00</td>\n",
       "    </tr>\n",
       "    <tr>\n",
       "      <th>5</th>\n",
       "      <td>8</td>\n",
       "      <td>Sapatos</td>\n",
       "      <td>1</td>\n",
       "      <td>720.00</td>\n",
       "    </tr>\n",
       "    <tr>\n",
       "      <th>6</th>\n",
       "      <td>9</td>\n",
       "      <td>Acessórios</td>\n",
       "      <td>2</td>\n",
       "      <td>122.50</td>\n",
       "    </tr>\n",
       "    <tr>\n",
       "      <th>7</th>\n",
       "      <td>9</td>\n",
       "      <td>Bermuda</td>\n",
       "      <td>1</td>\n",
       "      <td>280.00</td>\n",
       "    </tr>\n",
       "    <tr>\n",
       "      <th>8</th>\n",
       "      <td>9</td>\n",
       "      <td>Blusas e jaquetas</td>\n",
       "      <td>2</td>\n",
       "      <td>917.50</td>\n",
       "    </tr>\n",
       "    <tr>\n",
       "      <th>9</th>\n",
       "      <td>9</td>\n",
       "      <td>Calças</td>\n",
       "      <td>1</td>\n",
       "      <td>370.00</td>\n",
       "    </tr>\n",
       "    <tr>\n",
       "      <th>10</th>\n",
       "      <td>9</td>\n",
       "      <td>Camisetas</td>\n",
       "      <td>2</td>\n",
       "      <td>277.50</td>\n",
       "    </tr>\n",
       "    <tr>\n",
       "      <th>11</th>\n",
       "      <td>9</td>\n",
       "      <td>Sapatos</td>\n",
       "      <td>1</td>\n",
       "      <td>720.00</td>\n",
       "    </tr>\n",
       "    <tr>\n",
       "      <th>12</th>\n",
       "      <td>10</td>\n",
       "      <td>Acessórios</td>\n",
       "      <td>3</td>\n",
       "      <td>125.00</td>\n",
       "    </tr>\n",
       "    <tr>\n",
       "      <th>13</th>\n",
       "      <td>10</td>\n",
       "      <td>Blusas e jaquetas</td>\n",
       "      <td>1</td>\n",
       "      <td>945.00</td>\n",
       "    </tr>\n",
       "    <tr>\n",
       "      <th>14</th>\n",
       "      <td>10</td>\n",
       "      <td>Camisa</td>\n",
       "      <td>1</td>\n",
       "      <td>490.00</td>\n",
       "    </tr>\n",
       "    <tr>\n",
       "      <th>15</th>\n",
       "      <td>10</td>\n",
       "      <td>Camisetas</td>\n",
       "      <td>2</td>\n",
       "      <td>277.50</td>\n",
       "    </tr>\n",
       "    <tr>\n",
       "      <th>16</th>\n",
       "      <td>10</td>\n",
       "      <td>Sapatos</td>\n",
       "      <td>1</td>\n",
       "      <td>720.00</td>\n",
       "    </tr>\n",
       "  </tbody>\n",
       "</table>\n",
       "</div>"
      ],
      "text/plain": [
       "    mês          categoria  item  preço unitário\n",
       "0     8         Acessórios     3          135.00\n",
       "1     8            Bermuda     1          280.00\n",
       "2     8  Blusas e jaquetas     2          908.33\n",
       "3     8             Calças     1          370.00\n",
       "4     8          Camisetas     2          265.00\n",
       "5     8            Sapatos     1          720.00\n",
       "6     9         Acessórios     2          122.50\n",
       "7     9            Bermuda     1          280.00\n",
       "8     9  Blusas e jaquetas     2          917.50\n",
       "9     9             Calças     1          370.00\n",
       "10    9          Camisetas     2          277.50\n",
       "11    9            Sapatos     1          720.00\n",
       "12   10         Acessórios     3          125.00\n",
       "13   10  Blusas e jaquetas     1          945.00\n",
       "14   10             Camisa     1          490.00\n",
       "15   10          Camisetas     2          277.50\n",
       "16   10            Sapatos     1          720.00"
      ]
     },
     "execution_count": 21,
     "metadata": {},
     "output_type": "execute_result"
    }
   ],
   "source": [
    "dados_faturados[['mês', 'categoria', 'preço unitário', 'item']].groupby(['mês', 'categoria']).agg({'item':'nunique', 'preço unitário':'mean'}).round(2).reset_index()"
   ]
  },
  {
   "cell_type": "code",
   "execution_count": 32,
   "metadata": {},
   "outputs": [
    {
     "data": {
      "text/html": [
       "<div>\n",
       "<style scoped>\n",
       "    .dataframe tbody tr th:only-of-type {\n",
       "        vertical-align: middle;\n",
       "    }\n",
       "\n",
       "    .dataframe tbody tr th {\n",
       "        vertical-align: top;\n",
       "    }\n",
       "\n",
       "    .dataframe thead th {\n",
       "        text-align: right;\n",
       "    }\n",
       "</style>\n",
       "<table border=\"1\" class=\"dataframe\">\n",
       "  <thead>\n",
       "    <tr style=\"text-align: right;\">\n",
       "      <th></th>\n",
       "      <th>categoria</th>\n",
       "      <th>preço unitário</th>\n",
       "    </tr>\n",
       "  </thead>\n",
       "  <tbody>\n",
       "    <tr>\n",
       "      <th>0</th>\n",
       "      <td>Blusas e jaquetas</td>\n",
       "      <td>920.00</td>\n",
       "    </tr>\n",
       "    <tr>\n",
       "      <th>1</th>\n",
       "      <td>Sapatos</td>\n",
       "      <td>720.00</td>\n",
       "    </tr>\n",
       "    <tr>\n",
       "      <th>2</th>\n",
       "      <td>Camisa</td>\n",
       "      <td>490.00</td>\n",
       "    </tr>\n",
       "    <tr>\n",
       "      <th>3</th>\n",
       "      <td>Calças</td>\n",
       "      <td>370.00</td>\n",
       "    </tr>\n",
       "    <tr>\n",
       "      <th>4</th>\n",
       "      <td>Bermuda</td>\n",
       "      <td>280.00</td>\n",
       "    </tr>\n",
       "    <tr>\n",
       "      <th>5</th>\n",
       "      <td>Camisetas</td>\n",
       "      <td>274.62</td>\n",
       "    </tr>\n",
       "    <tr>\n",
       "      <th>6</th>\n",
       "      <td>Acessórios</td>\n",
       "      <td>128.75</td>\n",
       "    </tr>\n",
       "  </tbody>\n",
       "</table>\n",
       "</div>"
      ],
      "text/plain": [
       "           categoria  preço unitário\n",
       "0  Blusas e jaquetas          920.00\n",
       "1            Sapatos          720.00\n",
       "2             Camisa          490.00\n",
       "3             Calças          370.00\n",
       "4            Bermuda          280.00\n",
       "5          Camisetas          274.62\n",
       "6         Acessórios          128.75"
      ]
     },
     "execution_count": 32,
     "metadata": {},
     "output_type": "execute_result"
    }
   ],
   "source": [
    "dados_faturados[['categoria', 'preço unitário']].groupby('categoria').mean().sort_values(by='preço unitário', ascending=False).round(2).reset_index()"
   ]
  },
  {
   "cell_type": "code",
   "execution_count": 23,
   "metadata": {},
   "outputs": [],
   "source": [
    "import plotly.express as px"
   ]
  },
  {
   "cell_type": "code",
   "execution_count": 24,
   "metadata": {},
   "outputs": [
    {
     "data": {
      "text/html": [
       "<div>\n",
       "<style scoped>\n",
       "    .dataframe tbody tr th:only-of-type {\n",
       "        vertical-align: middle;\n",
       "    }\n",
       "\n",
       "    .dataframe tbody tr th {\n",
       "        vertical-align: top;\n",
       "    }\n",
       "\n",
       "    .dataframe thead th {\n",
       "        text-align: right;\n",
       "    }\n",
       "</style>\n",
       "<table border=\"1\" class=\"dataframe\">\n",
       "  <thead>\n",
       "    <tr style=\"text-align: right;\">\n",
       "      <th></th>\n",
       "      <th>mês</th>\n",
       "      <th>categoria</th>\n",
       "      <th>quantidade</th>\n",
       "    </tr>\n",
       "  </thead>\n",
       "  <tbody>\n",
       "    <tr>\n",
       "      <th>0</th>\n",
       "      <td>8</td>\n",
       "      <td>Acessórios</td>\n",
       "      <td>5</td>\n",
       "    </tr>\n",
       "    <tr>\n",
       "      <th>1</th>\n",
       "      <td>8</td>\n",
       "      <td>Bermuda</td>\n",
       "      <td>7</td>\n",
       "    </tr>\n",
       "    <tr>\n",
       "      <th>2</th>\n",
       "      <td>8</td>\n",
       "      <td>Blusas e jaquetas</td>\n",
       "      <td>3</td>\n",
       "    </tr>\n",
       "    <tr>\n",
       "      <th>3</th>\n",
       "      <td>8</td>\n",
       "      <td>Calças</td>\n",
       "      <td>2</td>\n",
       "    </tr>\n",
       "    <tr>\n",
       "      <th>4</th>\n",
       "      <td>8</td>\n",
       "      <td>Camisetas</td>\n",
       "      <td>4</td>\n",
       "    </tr>\n",
       "    <tr>\n",
       "      <th>5</th>\n",
       "      <td>8</td>\n",
       "      <td>Sapatos</td>\n",
       "      <td>3</td>\n",
       "    </tr>\n",
       "    <tr>\n",
       "      <th>6</th>\n",
       "      <td>9</td>\n",
       "      <td>Acessórios</td>\n",
       "      <td>2</td>\n",
       "    </tr>\n",
       "    <tr>\n",
       "      <th>7</th>\n",
       "      <td>9</td>\n",
       "      <td>Bermuda</td>\n",
       "      <td>3</td>\n",
       "    </tr>\n",
       "    <tr>\n",
       "      <th>8</th>\n",
       "      <td>9</td>\n",
       "      <td>Blusas e jaquetas</td>\n",
       "      <td>6</td>\n",
       "    </tr>\n",
       "    <tr>\n",
       "      <th>9</th>\n",
       "      <td>9</td>\n",
       "      <td>Calças</td>\n",
       "      <td>2</td>\n",
       "    </tr>\n",
       "    <tr>\n",
       "      <th>10</th>\n",
       "      <td>9</td>\n",
       "      <td>Camisetas</td>\n",
       "      <td>3</td>\n",
       "    </tr>\n",
       "    <tr>\n",
       "      <th>11</th>\n",
       "      <td>9</td>\n",
       "      <td>Sapatos</td>\n",
       "      <td>1</td>\n",
       "    </tr>\n",
       "    <tr>\n",
       "      <th>12</th>\n",
       "      <td>10</td>\n",
       "      <td>Acessórios</td>\n",
       "      <td>5</td>\n",
       "    </tr>\n",
       "    <tr>\n",
       "      <th>13</th>\n",
       "      <td>10</td>\n",
       "      <td>Blusas e jaquetas</td>\n",
       "      <td>2</td>\n",
       "    </tr>\n",
       "    <tr>\n",
       "      <th>14</th>\n",
       "      <td>10</td>\n",
       "      <td>Camisa</td>\n",
       "      <td>1</td>\n",
       "    </tr>\n",
       "    <tr>\n",
       "      <th>15</th>\n",
       "      <td>10</td>\n",
       "      <td>Camisetas</td>\n",
       "      <td>13</td>\n",
       "    </tr>\n",
       "    <tr>\n",
       "      <th>16</th>\n",
       "      <td>10</td>\n",
       "      <td>Sapatos</td>\n",
       "      <td>3</td>\n",
       "    </tr>\n",
       "  </tbody>\n",
       "</table>\n",
       "</div>"
      ],
      "text/plain": [
       "    mês          categoria  quantidade\n",
       "0     8         Acessórios           5\n",
       "1     8            Bermuda           7\n",
       "2     8  Blusas e jaquetas           3\n",
       "3     8             Calças           2\n",
       "4     8          Camisetas           4\n",
       "5     8            Sapatos           3\n",
       "6     9         Acessórios           2\n",
       "7     9            Bermuda           3\n",
       "8     9  Blusas e jaquetas           6\n",
       "9     9             Calças           2\n",
       "10    9          Camisetas           3\n",
       "11    9            Sapatos           1\n",
       "12   10         Acessórios           5\n",
       "13   10  Blusas e jaquetas           2\n",
       "14   10             Camisa           1\n",
       "15   10          Camisetas          13\n",
       "16   10            Sapatos           3"
      ]
     },
     "execution_count": 24,
     "metadata": {},
     "output_type": "execute_result"
    }
   ],
   "source": [
    "dados_faturados[['mês', 'quantidade', 'categoria']].groupby(['mês', 'categoria']).sum().reset_index()"
   ]
  },
  {
   "cell_type": "code",
   "execution_count": 25,
   "metadata": {},
   "outputs": [
    {
     "name": "stderr",
     "output_type": "stream",
     "text": [
      "/home/bruno/.pyenv/versions/3.11.7/envs/datascience/lib/python3.11/site-packages/plotly/express/_core.py:2065: FutureWarning: When grouping with a length-1 list-like, you will need to pass a length-1 tuple to get_group in a future version of pandas. Pass `(name,)` instead of `name` to silence this warning.\n",
      "  sf: grouped.get_group(s if len(s) > 1 else s[0])\n"
     ]
    },
    {
     "data": {
      "application/vnd.plotly.v1+json": {
       "config": {
        "plotlyServerURL": "https://plot.ly"
       },
       "data": [
        {
         "alignmentgroup": "True",
         "hovertemplate": "categoria=Blusas e jaquetas<br>mês=%{x}<br>quantidade=%{y}<extra></extra>",
         "legendgroup": "Blusas e jaquetas",
         "marker": {
          "color": "#636efa",
          "pattern": {
           "shape": ""
          }
         },
         "name": "Blusas e jaquetas",
         "offsetgroup": "Blusas e jaquetas",
         "orientation": "v",
         "showlegend": true,
         "textposition": "auto",
         "type": "bar",
         "x": [
          8,
          8,
          8,
          9,
          9,
          9,
          9,
          9,
          9,
          10,
          10
         ],
         "xaxis": "x",
         "y": [
          1,
          1,
          1,
          1,
          1,
          1,
          1,
          1,
          1,
          1,
          1
         ],
         "yaxis": "y"
        },
        {
         "alignmentgroup": "True",
         "hovertemplate": "categoria=Sapatos<br>mês=%{x}<br>quantidade=%{y}<extra></extra>",
         "legendgroup": "Sapatos",
         "marker": {
          "color": "#EF553B",
          "pattern": {
           "shape": ""
          }
         },
         "name": "Sapatos",
         "offsetgroup": "Sapatos",
         "orientation": "v",
         "showlegend": true,
         "textposition": "auto",
         "type": "bar",
         "x": [
          8,
          8,
          8,
          9,
          10,
          10,
          10
         ],
         "xaxis": "x",
         "y": [
          1,
          1,
          1,
          1,
          1,
          1,
          1
         ],
         "yaxis": "y"
        },
        {
         "alignmentgroup": "True",
         "hovertemplate": "categoria=Camisetas<br>mês=%{x}<br>quantidade=%{y}<extra></extra>",
         "legendgroup": "Camisetas",
         "marker": {
          "color": "#00cc96",
          "pattern": {
           "shape": ""
          }
         },
         "name": "Camisetas",
         "offsetgroup": "Camisetas",
         "orientation": "v",
         "showlegend": true,
         "textposition": "auto",
         "type": "bar",
         "x": [
          8,
          8,
          8,
          9,
          9,
          10,
          10,
          10,
          10,
          10,
          10,
          10,
          10
         ],
         "xaxis": "x",
         "y": [
          2,
          1,
          1,
          1,
          2,
          2,
          1,
          2,
          1,
          3,
          2,
          1,
          1
         ],
         "yaxis": "y"
        },
        {
         "alignmentgroup": "True",
         "hovertemplate": "categoria=Calças<br>mês=%{x}<br>quantidade=%{y}<extra></extra>",
         "legendgroup": "Calças",
         "marker": {
          "color": "#ab63fa",
          "pattern": {
           "shape": ""
          }
         },
         "name": "Calças",
         "offsetgroup": "Calças",
         "orientation": "v",
         "showlegend": true,
         "textposition": "auto",
         "type": "bar",
         "x": [
          8,
          9,
          9
         ],
         "xaxis": "x",
         "y": [
          2,
          1,
          1
         ],
         "yaxis": "y"
        },
        {
         "alignmentgroup": "True",
         "hovertemplate": "categoria=Bermuda<br>mês=%{x}<br>quantidade=%{y}<extra></extra>",
         "legendgroup": "Bermuda",
         "marker": {
          "color": "#FFA15A",
          "pattern": {
           "shape": ""
          }
         },
         "name": "Bermuda",
         "offsetgroup": "Bermuda",
         "orientation": "v",
         "showlegend": true,
         "textposition": "auto",
         "type": "bar",
         "x": [
          8,
          8,
          8,
          9,
          9
         ],
         "xaxis": "x",
         "y": [
          3,
          1,
          3,
          1,
          2
         ],
         "yaxis": "y"
        },
        {
         "alignmentgroup": "True",
         "hovertemplate": "categoria=Acessórios<br>mês=%{x}<br>quantidade=%{y}<extra></extra>",
         "legendgroup": "Acessórios",
         "marker": {
          "color": "#19d3f3",
          "pattern": {
           "shape": ""
          }
         },
         "name": "Acessórios",
         "offsetgroup": "Acessórios",
         "orientation": "v",
         "showlegend": true,
         "textposition": "auto",
         "type": "bar",
         "x": [
          8,
          8,
          8,
          8,
          8,
          9,
          9,
          10,
          10,
          10,
          10,
          10
         ],
         "xaxis": "x",
         "y": [
          1,
          1,
          1,
          1,
          1,
          1,
          1,
          1,
          1,
          1,
          1,
          1
         ],
         "yaxis": "y"
        },
        {
         "alignmentgroup": "True",
         "hovertemplate": "categoria=Camisa<br>mês=%{x}<br>quantidade=%{y}<extra></extra>",
         "legendgroup": "Camisa",
         "marker": {
          "color": "#FF6692",
          "pattern": {
           "shape": ""
          }
         },
         "name": "Camisa",
         "offsetgroup": "Camisa",
         "orientation": "v",
         "showlegend": true,
         "textposition": "auto",
         "type": "bar",
         "x": [
          10
         ],
         "xaxis": "x",
         "y": [
          1
         ],
         "yaxis": "y"
        }
       ],
       "layout": {
        "barmode": "group",
        "legend": {
         "title": {
          "text": "categoria"
         },
         "tracegroupgap": 0
        },
        "margin": {
         "t": 60
        },
        "template": {
         "data": {
          "bar": [
           {
            "error_x": {
             "color": "#f2f5fa"
            },
            "error_y": {
             "color": "#f2f5fa"
            },
            "marker": {
             "line": {
              "color": "rgb(17,17,17)",
              "width": 0.5
             },
             "pattern": {
              "fillmode": "overlay",
              "size": 10,
              "solidity": 0.2
             }
            },
            "type": "bar"
           }
          ],
          "barpolar": [
           {
            "marker": {
             "line": {
              "color": "rgb(17,17,17)",
              "width": 0.5
             },
             "pattern": {
              "fillmode": "overlay",
              "size": 10,
              "solidity": 0.2
             }
            },
            "type": "barpolar"
           }
          ],
          "carpet": [
           {
            "aaxis": {
             "endlinecolor": "#A2B1C6",
             "gridcolor": "#506784",
             "linecolor": "#506784",
             "minorgridcolor": "#506784",
             "startlinecolor": "#A2B1C6"
            },
            "baxis": {
             "endlinecolor": "#A2B1C6",
             "gridcolor": "#506784",
             "linecolor": "#506784",
             "minorgridcolor": "#506784",
             "startlinecolor": "#A2B1C6"
            },
            "type": "carpet"
           }
          ],
          "choropleth": [
           {
            "colorbar": {
             "outlinewidth": 0,
             "ticks": ""
            },
            "type": "choropleth"
           }
          ],
          "contour": [
           {
            "colorbar": {
             "outlinewidth": 0,
             "ticks": ""
            },
            "colorscale": [
             [
              0,
              "#0d0887"
             ],
             [
              0.1111111111111111,
              "#46039f"
             ],
             [
              0.2222222222222222,
              "#7201a8"
             ],
             [
              0.3333333333333333,
              "#9c179e"
             ],
             [
              0.4444444444444444,
              "#bd3786"
             ],
             [
              0.5555555555555556,
              "#d8576b"
             ],
             [
              0.6666666666666666,
              "#ed7953"
             ],
             [
              0.7777777777777778,
              "#fb9f3a"
             ],
             [
              0.8888888888888888,
              "#fdca26"
             ],
             [
              1,
              "#f0f921"
             ]
            ],
            "type": "contour"
           }
          ],
          "contourcarpet": [
           {
            "colorbar": {
             "outlinewidth": 0,
             "ticks": ""
            },
            "type": "contourcarpet"
           }
          ],
          "heatmap": [
           {
            "colorbar": {
             "outlinewidth": 0,
             "ticks": ""
            },
            "colorscale": [
             [
              0,
              "#0d0887"
             ],
             [
              0.1111111111111111,
              "#46039f"
             ],
             [
              0.2222222222222222,
              "#7201a8"
             ],
             [
              0.3333333333333333,
              "#9c179e"
             ],
             [
              0.4444444444444444,
              "#bd3786"
             ],
             [
              0.5555555555555556,
              "#d8576b"
             ],
             [
              0.6666666666666666,
              "#ed7953"
             ],
             [
              0.7777777777777778,
              "#fb9f3a"
             ],
             [
              0.8888888888888888,
              "#fdca26"
             ],
             [
              1,
              "#f0f921"
             ]
            ],
            "type": "heatmap"
           }
          ],
          "heatmapgl": [
           {
            "colorbar": {
             "outlinewidth": 0,
             "ticks": ""
            },
            "colorscale": [
             [
              0,
              "#0d0887"
             ],
             [
              0.1111111111111111,
              "#46039f"
             ],
             [
              0.2222222222222222,
              "#7201a8"
             ],
             [
              0.3333333333333333,
              "#9c179e"
             ],
             [
              0.4444444444444444,
              "#bd3786"
             ],
             [
              0.5555555555555556,
              "#d8576b"
             ],
             [
              0.6666666666666666,
              "#ed7953"
             ],
             [
              0.7777777777777778,
              "#fb9f3a"
             ],
             [
              0.8888888888888888,
              "#fdca26"
             ],
             [
              1,
              "#f0f921"
             ]
            ],
            "type": "heatmapgl"
           }
          ],
          "histogram": [
           {
            "marker": {
             "pattern": {
              "fillmode": "overlay",
              "size": 10,
              "solidity": 0.2
             }
            },
            "type": "histogram"
           }
          ],
          "histogram2d": [
           {
            "colorbar": {
             "outlinewidth": 0,
             "ticks": ""
            },
            "colorscale": [
             [
              0,
              "#0d0887"
             ],
             [
              0.1111111111111111,
              "#46039f"
             ],
             [
              0.2222222222222222,
              "#7201a8"
             ],
             [
              0.3333333333333333,
              "#9c179e"
             ],
             [
              0.4444444444444444,
              "#bd3786"
             ],
             [
              0.5555555555555556,
              "#d8576b"
             ],
             [
              0.6666666666666666,
              "#ed7953"
             ],
             [
              0.7777777777777778,
              "#fb9f3a"
             ],
             [
              0.8888888888888888,
              "#fdca26"
             ],
             [
              1,
              "#f0f921"
             ]
            ],
            "type": "histogram2d"
           }
          ],
          "histogram2dcontour": [
           {
            "colorbar": {
             "outlinewidth": 0,
             "ticks": ""
            },
            "colorscale": [
             [
              0,
              "#0d0887"
             ],
             [
              0.1111111111111111,
              "#46039f"
             ],
             [
              0.2222222222222222,
              "#7201a8"
             ],
             [
              0.3333333333333333,
              "#9c179e"
             ],
             [
              0.4444444444444444,
              "#bd3786"
             ],
             [
              0.5555555555555556,
              "#d8576b"
             ],
             [
              0.6666666666666666,
              "#ed7953"
             ],
             [
              0.7777777777777778,
              "#fb9f3a"
             ],
             [
              0.8888888888888888,
              "#fdca26"
             ],
             [
              1,
              "#f0f921"
             ]
            ],
            "type": "histogram2dcontour"
           }
          ],
          "mesh3d": [
           {
            "colorbar": {
             "outlinewidth": 0,
             "ticks": ""
            },
            "type": "mesh3d"
           }
          ],
          "parcoords": [
           {
            "line": {
             "colorbar": {
              "outlinewidth": 0,
              "ticks": ""
             }
            },
            "type": "parcoords"
           }
          ],
          "pie": [
           {
            "automargin": true,
            "type": "pie"
           }
          ],
          "scatter": [
           {
            "marker": {
             "line": {
              "color": "#283442"
             }
            },
            "type": "scatter"
           }
          ],
          "scatter3d": [
           {
            "line": {
             "colorbar": {
              "outlinewidth": 0,
              "ticks": ""
             }
            },
            "marker": {
             "colorbar": {
              "outlinewidth": 0,
              "ticks": ""
             }
            },
            "type": "scatter3d"
           }
          ],
          "scattercarpet": [
           {
            "marker": {
             "colorbar": {
              "outlinewidth": 0,
              "ticks": ""
             }
            },
            "type": "scattercarpet"
           }
          ],
          "scattergeo": [
           {
            "marker": {
             "colorbar": {
              "outlinewidth": 0,
              "ticks": ""
             }
            },
            "type": "scattergeo"
           }
          ],
          "scattergl": [
           {
            "marker": {
             "line": {
              "color": "#283442"
             }
            },
            "type": "scattergl"
           }
          ],
          "scattermapbox": [
           {
            "marker": {
             "colorbar": {
              "outlinewidth": 0,
              "ticks": ""
             }
            },
            "type": "scattermapbox"
           }
          ],
          "scatterpolar": [
           {
            "marker": {
             "colorbar": {
              "outlinewidth": 0,
              "ticks": ""
             }
            },
            "type": "scatterpolar"
           }
          ],
          "scatterpolargl": [
           {
            "marker": {
             "colorbar": {
              "outlinewidth": 0,
              "ticks": ""
             }
            },
            "type": "scatterpolargl"
           }
          ],
          "scatterternary": [
           {
            "marker": {
             "colorbar": {
              "outlinewidth": 0,
              "ticks": ""
             }
            },
            "type": "scatterternary"
           }
          ],
          "surface": [
           {
            "colorbar": {
             "outlinewidth": 0,
             "ticks": ""
            },
            "colorscale": [
             [
              0,
              "#0d0887"
             ],
             [
              0.1111111111111111,
              "#46039f"
             ],
             [
              0.2222222222222222,
              "#7201a8"
             ],
             [
              0.3333333333333333,
              "#9c179e"
             ],
             [
              0.4444444444444444,
              "#bd3786"
             ],
             [
              0.5555555555555556,
              "#d8576b"
             ],
             [
              0.6666666666666666,
              "#ed7953"
             ],
             [
              0.7777777777777778,
              "#fb9f3a"
             ],
             [
              0.8888888888888888,
              "#fdca26"
             ],
             [
              1,
              "#f0f921"
             ]
            ],
            "type": "surface"
           }
          ],
          "table": [
           {
            "cells": {
             "fill": {
              "color": "#506784"
             },
             "line": {
              "color": "rgb(17,17,17)"
             }
            },
            "header": {
             "fill": {
              "color": "#2a3f5f"
             },
             "line": {
              "color": "rgb(17,17,17)"
             }
            },
            "type": "table"
           }
          ]
         },
         "layout": {
          "annotationdefaults": {
           "arrowcolor": "#f2f5fa",
           "arrowhead": 0,
           "arrowwidth": 1
          },
          "autotypenumbers": "strict",
          "coloraxis": {
           "colorbar": {
            "outlinewidth": 0,
            "ticks": ""
           }
          },
          "colorscale": {
           "diverging": [
            [
             0,
             "#8e0152"
            ],
            [
             0.1,
             "#c51b7d"
            ],
            [
             0.2,
             "#de77ae"
            ],
            [
             0.3,
             "#f1b6da"
            ],
            [
             0.4,
             "#fde0ef"
            ],
            [
             0.5,
             "#f7f7f7"
            ],
            [
             0.6,
             "#e6f5d0"
            ],
            [
             0.7,
             "#b8e186"
            ],
            [
             0.8,
             "#7fbc41"
            ],
            [
             0.9,
             "#4d9221"
            ],
            [
             1,
             "#276419"
            ]
           ],
           "sequential": [
            [
             0,
             "#0d0887"
            ],
            [
             0.1111111111111111,
             "#46039f"
            ],
            [
             0.2222222222222222,
             "#7201a8"
            ],
            [
             0.3333333333333333,
             "#9c179e"
            ],
            [
             0.4444444444444444,
             "#bd3786"
            ],
            [
             0.5555555555555556,
             "#d8576b"
            ],
            [
             0.6666666666666666,
             "#ed7953"
            ],
            [
             0.7777777777777778,
             "#fb9f3a"
            ],
            [
             0.8888888888888888,
             "#fdca26"
            ],
            [
             1,
             "#f0f921"
            ]
           ],
           "sequentialminus": [
            [
             0,
             "#0d0887"
            ],
            [
             0.1111111111111111,
             "#46039f"
            ],
            [
             0.2222222222222222,
             "#7201a8"
            ],
            [
             0.3333333333333333,
             "#9c179e"
            ],
            [
             0.4444444444444444,
             "#bd3786"
            ],
            [
             0.5555555555555556,
             "#d8576b"
            ],
            [
             0.6666666666666666,
             "#ed7953"
            ],
            [
             0.7777777777777778,
             "#fb9f3a"
            ],
            [
             0.8888888888888888,
             "#fdca26"
            ],
            [
             1,
             "#f0f921"
            ]
           ]
          },
          "colorway": [
           "#636efa",
           "#EF553B",
           "#00cc96",
           "#ab63fa",
           "#FFA15A",
           "#19d3f3",
           "#FF6692",
           "#B6E880",
           "#FF97FF",
           "#FECB52"
          ],
          "font": {
           "color": "#f2f5fa"
          },
          "geo": {
           "bgcolor": "rgb(17,17,17)",
           "lakecolor": "rgb(17,17,17)",
           "landcolor": "rgb(17,17,17)",
           "showlakes": true,
           "showland": true,
           "subunitcolor": "#506784"
          },
          "hoverlabel": {
           "align": "left"
          },
          "hovermode": "closest",
          "mapbox": {
           "style": "dark"
          },
          "paper_bgcolor": "rgb(17,17,17)",
          "plot_bgcolor": "rgb(17,17,17)",
          "polar": {
           "angularaxis": {
            "gridcolor": "#506784",
            "linecolor": "#506784",
            "ticks": ""
           },
           "bgcolor": "rgb(17,17,17)",
           "radialaxis": {
            "gridcolor": "#506784",
            "linecolor": "#506784",
            "ticks": ""
           }
          },
          "scene": {
           "xaxis": {
            "backgroundcolor": "rgb(17,17,17)",
            "gridcolor": "#506784",
            "gridwidth": 2,
            "linecolor": "#506784",
            "showbackground": true,
            "ticks": "",
            "zerolinecolor": "#C8D4E3"
           },
           "yaxis": {
            "backgroundcolor": "rgb(17,17,17)",
            "gridcolor": "#506784",
            "gridwidth": 2,
            "linecolor": "#506784",
            "showbackground": true,
            "ticks": "",
            "zerolinecolor": "#C8D4E3"
           },
           "zaxis": {
            "backgroundcolor": "rgb(17,17,17)",
            "gridcolor": "#506784",
            "gridwidth": 2,
            "linecolor": "#506784",
            "showbackground": true,
            "ticks": "",
            "zerolinecolor": "#C8D4E3"
           }
          },
          "shapedefaults": {
           "line": {
            "color": "#f2f5fa"
           }
          },
          "sliderdefaults": {
           "bgcolor": "#C8D4E3",
           "bordercolor": "rgb(17,17,17)",
           "borderwidth": 1,
           "tickwidth": 0
          },
          "ternary": {
           "aaxis": {
            "gridcolor": "#506784",
            "linecolor": "#506784",
            "ticks": ""
           },
           "baxis": {
            "gridcolor": "#506784",
            "linecolor": "#506784",
            "ticks": ""
           },
           "bgcolor": "rgb(17,17,17)",
           "caxis": {
            "gridcolor": "#506784",
            "linecolor": "#506784",
            "ticks": ""
           }
          },
          "title": {
           "x": 0.05
          },
          "updatemenudefaults": {
           "bgcolor": "#506784",
           "borderwidth": 0
          },
          "xaxis": {
           "automargin": true,
           "gridcolor": "#283442",
           "linecolor": "#506784",
           "ticks": "",
           "title": {
            "standoff": 15
           },
           "zerolinecolor": "#283442",
           "zerolinewidth": 2
          },
          "yaxis": {
           "automargin": true,
           "gridcolor": "#283442",
           "linecolor": "#506784",
           "ticks": "",
           "title": {
            "standoff": 15
           },
           "zerolinecolor": "#283442",
           "zerolinewidth": 2
          }
         }
        },
        "xaxis": {
         "anchor": "y",
         "domain": [
          0,
          1
         ],
         "title": {
          "text": "mês"
         }
        },
        "yaxis": {
         "anchor": "x",
         "domain": [
          0,
          1
         ],
         "title": {
          "text": "quantidade"
         }
        }
       }
      }
     },
     "metadata": {},
     "output_type": "display_data"
    }
   ],
   "source": [
    "px.bar(data_frame=dados_faturados,\n",
    "       x='mês',\n",
    "       y='quantidade',\n",
    "       color='categoria',\n",
    "       barmode='group',\n",
    "       template='plotly_dark')"
   ]
  },
  {
   "cell_type": "code",
   "execution_count": 26,
   "metadata": {},
   "outputs": [
    {
     "name": "stderr",
     "output_type": "stream",
     "text": [
      "/home/bruno/.pyenv/versions/3.11.7/envs/datascience/lib/python3.11/site-packages/plotly/express/_core.py:2065: FutureWarning:\n",
      "\n",
      "When grouping with a length-1 list-like, you will need to pass a length-1 tuple to get_group in a future version of pandas. Pass `(name,)` instead of `name` to silence this warning.\n",
      "\n"
     ]
    },
    {
     "data": {
      "application/vnd.plotly.v1+json": {
       "config": {
        "plotlyServerURL": "https://plot.ly"
       },
       "data": [
        {
         "alignmentgroup": "True",
         "hovertemplate": "categoria=Blusas e jaquetas<br>mês=%{x}<br>preço total do pedido=%{y}<extra></extra>",
         "legendgroup": "Blusas e jaquetas",
         "marker": {
          "color": "#636efa",
          "pattern": {
           "shape": ""
          }
         },
         "name": "Blusas e jaquetas",
         "offsetgroup": "Blusas e jaquetas",
         "orientation": "v",
         "showlegend": true,
         "textposition": "auto",
         "type": "bar",
         "x": [
          8,
          8,
          8,
          9,
          9,
          9,
          9,
          9,
          9,
          10,
          10
         ],
         "xaxis": "x",
         "y": [
          2555,
          2555,
          1050,
          3815,
          3815,
          3815,
          945,
          890,
          1050,
          945,
          1370
         ],
         "yaxis": "y"
        },
        {
         "alignmentgroup": "True",
         "hovertemplate": "categoria=Sapatos<br>mês=%{x}<br>preço total do pedido=%{y}<extra></extra>",
         "legendgroup": "Sapatos",
         "marker": {
          "color": "#EF553B",
          "pattern": {
           "shape": ""
          }
         },
         "name": "Sapatos",
         "offsetgroup": "Sapatos",
         "orientation": "v",
         "showlegend": true,
         "textposition": "auto",
         "type": "bar",
         "x": [
          8,
          8,
          8,
          9,
          10,
          10,
          10
         ],
         "xaxis": "x",
         "y": [
          2555,
          880,
          720,
          3815,
          720,
          1435,
          720
         ],
         "yaxis": "y"
        },
        {
         "alignmentgroup": "True",
         "hovertemplate": "categoria=Camisetas<br>mês=%{x}<br>preço total do pedido=%{y}<extra></extra>",
         "legendgroup": "Camisetas",
         "marker": {
          "color": "#00cc96",
          "pattern": {
           "shape": ""
          }
         },
         "name": "Camisetas",
         "offsetgroup": "Camisetas",
         "orientation": "v",
         "showlegend": true,
         "textposition": "auto",
         "type": "bar",
         "x": [
          8,
          8,
          8,
          9,
          9,
          10,
          10,
          10,
          10,
          10,
          10,
          10,
          10
         ],
         "xaxis": "x",
         "y": [
          870,
          870,
          240,
          3815,
          480,
          630,
          240,
          1435,
          475,
          720,
          480,
          240,
          1370
         ],
         "yaxis": "y"
        },
        {
         "alignmentgroup": "True",
         "hovertemplate": "categoria=Calças<br>mês=%{x}<br>preço total do pedido=%{y}<extra></extra>",
         "legendgroup": "Calças",
         "marker": {
          "color": "#ab63fa",
          "pattern": {
           "shape": ""
          }
         },
         "name": "Calças",
         "offsetgroup": "Calças",
         "orientation": "v",
         "showlegend": true,
         "textposition": "auto",
         "type": "bar",
         "x": [
          8,
          9,
          9
         ],
         "xaxis": "x",
         "y": [
          740,
          370,
          1015
         ],
         "yaxis": "y"
        },
        {
         "alignmentgroup": "True",
         "hovertemplate": "categoria=Bermuda<br>mês=%{x}<br>preço total do pedido=%{y}<extra></extra>",
         "legendgroup": "Bermuda",
         "marker": {
          "color": "#FFA15A",
          "pattern": {
           "shape": ""
          }
         },
         "name": "Bermuda",
         "offsetgroup": "Bermuda",
         "orientation": "v",
         "showlegend": true,
         "textposition": "auto",
         "type": "bar",
         "x": [
          8,
          8,
          8,
          9,
          9
         ],
         "xaxis": "x",
         "y": [
          840,
          635,
          840,
          280,
          1015
         ],
         "yaxis": "y"
        },
        {
         "alignmentgroup": "True",
         "hovertemplate": "categoria=Acessórios<br>mês=%{x}<br>preço total do pedido=%{y}<extra></extra>",
         "legendgroup": "Acessórios",
         "marker": {
          "color": "#19d3f3",
          "pattern": {
           "shape": ""
          }
         },
         "name": "Acessórios",
         "offsetgroup": "Acessórios",
         "orientation": "v",
         "showlegend": true,
         "textposition": "auto",
         "type": "bar",
         "x": [
          8,
          8,
          8,
          8,
          8,
          9,
          9,
          10,
          10,
          10,
          10,
          10
         ],
         "xaxis": "x",
         "y": [
          635,
          635,
          635,
          1050,
          880,
          1015,
          1050,
          160,
          110,
          1435,
          475,
          1370
         ],
         "yaxis": "y"
        },
        {
         "alignmentgroup": "True",
         "hovertemplate": "categoria=Camisa<br>mês=%{x}<br>preço total do pedido=%{y}<extra></extra>",
         "legendgroup": "Camisa",
         "marker": {
          "color": "#FF6692",
          "pattern": {
           "shape": ""
          }
         },
         "name": "Camisa",
         "offsetgroup": "Camisa",
         "orientation": "v",
         "showlegend": true,
         "textposition": "auto",
         "type": "bar",
         "x": [
          10
         ],
         "xaxis": "x",
         "y": [
          490
         ],
         "yaxis": "y"
        }
       ],
       "layout": {
        "barmode": "group",
        "legend": {
         "title": {
          "text": "categoria"
         },
         "tracegroupgap": 0
        },
        "margin": {
         "t": 60
        },
        "template": {
         "data": {
          "bar": [
           {
            "error_x": {
             "color": "#f2f5fa"
            },
            "error_y": {
             "color": "#f2f5fa"
            },
            "marker": {
             "line": {
              "color": "rgb(17,17,17)",
              "width": 0.5
             },
             "pattern": {
              "fillmode": "overlay",
              "size": 10,
              "solidity": 0.2
             }
            },
            "type": "bar"
           }
          ],
          "barpolar": [
           {
            "marker": {
             "line": {
              "color": "rgb(17,17,17)",
              "width": 0.5
             },
             "pattern": {
              "fillmode": "overlay",
              "size": 10,
              "solidity": 0.2
             }
            },
            "type": "barpolar"
           }
          ],
          "carpet": [
           {
            "aaxis": {
             "endlinecolor": "#A2B1C6",
             "gridcolor": "#506784",
             "linecolor": "#506784",
             "minorgridcolor": "#506784",
             "startlinecolor": "#A2B1C6"
            },
            "baxis": {
             "endlinecolor": "#A2B1C6",
             "gridcolor": "#506784",
             "linecolor": "#506784",
             "minorgridcolor": "#506784",
             "startlinecolor": "#A2B1C6"
            },
            "type": "carpet"
           }
          ],
          "choropleth": [
           {
            "colorbar": {
             "outlinewidth": 0,
             "ticks": ""
            },
            "type": "choropleth"
           }
          ],
          "contour": [
           {
            "colorbar": {
             "outlinewidth": 0,
             "ticks": ""
            },
            "colorscale": [
             [
              0,
              "#0d0887"
             ],
             [
              0.1111111111111111,
              "#46039f"
             ],
             [
              0.2222222222222222,
              "#7201a8"
             ],
             [
              0.3333333333333333,
              "#9c179e"
             ],
             [
              0.4444444444444444,
              "#bd3786"
             ],
             [
              0.5555555555555556,
              "#d8576b"
             ],
             [
              0.6666666666666666,
              "#ed7953"
             ],
             [
              0.7777777777777778,
              "#fb9f3a"
             ],
             [
              0.8888888888888888,
              "#fdca26"
             ],
             [
              1,
              "#f0f921"
             ]
            ],
            "type": "contour"
           }
          ],
          "contourcarpet": [
           {
            "colorbar": {
             "outlinewidth": 0,
             "ticks": ""
            },
            "type": "contourcarpet"
           }
          ],
          "heatmap": [
           {
            "colorbar": {
             "outlinewidth": 0,
             "ticks": ""
            },
            "colorscale": [
             [
              0,
              "#0d0887"
             ],
             [
              0.1111111111111111,
              "#46039f"
             ],
             [
              0.2222222222222222,
              "#7201a8"
             ],
             [
              0.3333333333333333,
              "#9c179e"
             ],
             [
              0.4444444444444444,
              "#bd3786"
             ],
             [
              0.5555555555555556,
              "#d8576b"
             ],
             [
              0.6666666666666666,
              "#ed7953"
             ],
             [
              0.7777777777777778,
              "#fb9f3a"
             ],
             [
              0.8888888888888888,
              "#fdca26"
             ],
             [
              1,
              "#f0f921"
             ]
            ],
            "type": "heatmap"
           }
          ],
          "heatmapgl": [
           {
            "colorbar": {
             "outlinewidth": 0,
             "ticks": ""
            },
            "colorscale": [
             [
              0,
              "#0d0887"
             ],
             [
              0.1111111111111111,
              "#46039f"
             ],
             [
              0.2222222222222222,
              "#7201a8"
             ],
             [
              0.3333333333333333,
              "#9c179e"
             ],
             [
              0.4444444444444444,
              "#bd3786"
             ],
             [
              0.5555555555555556,
              "#d8576b"
             ],
             [
              0.6666666666666666,
              "#ed7953"
             ],
             [
              0.7777777777777778,
              "#fb9f3a"
             ],
             [
              0.8888888888888888,
              "#fdca26"
             ],
             [
              1,
              "#f0f921"
             ]
            ],
            "type": "heatmapgl"
           }
          ],
          "histogram": [
           {
            "marker": {
             "pattern": {
              "fillmode": "overlay",
              "size": 10,
              "solidity": 0.2
             }
            },
            "type": "histogram"
           }
          ],
          "histogram2d": [
           {
            "colorbar": {
             "outlinewidth": 0,
             "ticks": ""
            },
            "colorscale": [
             [
              0,
              "#0d0887"
             ],
             [
              0.1111111111111111,
              "#46039f"
             ],
             [
              0.2222222222222222,
              "#7201a8"
             ],
             [
              0.3333333333333333,
              "#9c179e"
             ],
             [
              0.4444444444444444,
              "#bd3786"
             ],
             [
              0.5555555555555556,
              "#d8576b"
             ],
             [
              0.6666666666666666,
              "#ed7953"
             ],
             [
              0.7777777777777778,
              "#fb9f3a"
             ],
             [
              0.8888888888888888,
              "#fdca26"
             ],
             [
              1,
              "#f0f921"
             ]
            ],
            "type": "histogram2d"
           }
          ],
          "histogram2dcontour": [
           {
            "colorbar": {
             "outlinewidth": 0,
             "ticks": ""
            },
            "colorscale": [
             [
              0,
              "#0d0887"
             ],
             [
              0.1111111111111111,
              "#46039f"
             ],
             [
              0.2222222222222222,
              "#7201a8"
             ],
             [
              0.3333333333333333,
              "#9c179e"
             ],
             [
              0.4444444444444444,
              "#bd3786"
             ],
             [
              0.5555555555555556,
              "#d8576b"
             ],
             [
              0.6666666666666666,
              "#ed7953"
             ],
             [
              0.7777777777777778,
              "#fb9f3a"
             ],
             [
              0.8888888888888888,
              "#fdca26"
             ],
             [
              1,
              "#f0f921"
             ]
            ],
            "type": "histogram2dcontour"
           }
          ],
          "mesh3d": [
           {
            "colorbar": {
             "outlinewidth": 0,
             "ticks": ""
            },
            "type": "mesh3d"
           }
          ],
          "parcoords": [
           {
            "line": {
             "colorbar": {
              "outlinewidth": 0,
              "ticks": ""
             }
            },
            "type": "parcoords"
           }
          ],
          "pie": [
           {
            "automargin": true,
            "type": "pie"
           }
          ],
          "scatter": [
           {
            "marker": {
             "line": {
              "color": "#283442"
             }
            },
            "type": "scatter"
           }
          ],
          "scatter3d": [
           {
            "line": {
             "colorbar": {
              "outlinewidth": 0,
              "ticks": ""
             }
            },
            "marker": {
             "colorbar": {
              "outlinewidth": 0,
              "ticks": ""
             }
            },
            "type": "scatter3d"
           }
          ],
          "scattercarpet": [
           {
            "marker": {
             "colorbar": {
              "outlinewidth": 0,
              "ticks": ""
             }
            },
            "type": "scattercarpet"
           }
          ],
          "scattergeo": [
           {
            "marker": {
             "colorbar": {
              "outlinewidth": 0,
              "ticks": ""
             }
            },
            "type": "scattergeo"
           }
          ],
          "scattergl": [
           {
            "marker": {
             "line": {
              "color": "#283442"
             }
            },
            "type": "scattergl"
           }
          ],
          "scattermapbox": [
           {
            "marker": {
             "colorbar": {
              "outlinewidth": 0,
              "ticks": ""
             }
            },
            "type": "scattermapbox"
           }
          ],
          "scatterpolar": [
           {
            "marker": {
             "colorbar": {
              "outlinewidth": 0,
              "ticks": ""
             }
            },
            "type": "scatterpolar"
           }
          ],
          "scatterpolargl": [
           {
            "marker": {
             "colorbar": {
              "outlinewidth": 0,
              "ticks": ""
             }
            },
            "type": "scatterpolargl"
           }
          ],
          "scatterternary": [
           {
            "marker": {
             "colorbar": {
              "outlinewidth": 0,
              "ticks": ""
             }
            },
            "type": "scatterternary"
           }
          ],
          "surface": [
           {
            "colorbar": {
             "outlinewidth": 0,
             "ticks": ""
            },
            "colorscale": [
             [
              0,
              "#0d0887"
             ],
             [
              0.1111111111111111,
              "#46039f"
             ],
             [
              0.2222222222222222,
              "#7201a8"
             ],
             [
              0.3333333333333333,
              "#9c179e"
             ],
             [
              0.4444444444444444,
              "#bd3786"
             ],
             [
              0.5555555555555556,
              "#d8576b"
             ],
             [
              0.6666666666666666,
              "#ed7953"
             ],
             [
              0.7777777777777778,
              "#fb9f3a"
             ],
             [
              0.8888888888888888,
              "#fdca26"
             ],
             [
              1,
              "#f0f921"
             ]
            ],
            "type": "surface"
           }
          ],
          "table": [
           {
            "cells": {
             "fill": {
              "color": "#506784"
             },
             "line": {
              "color": "rgb(17,17,17)"
             }
            },
            "header": {
             "fill": {
              "color": "#2a3f5f"
             },
             "line": {
              "color": "rgb(17,17,17)"
             }
            },
            "type": "table"
           }
          ]
         },
         "layout": {
          "annotationdefaults": {
           "arrowcolor": "#f2f5fa",
           "arrowhead": 0,
           "arrowwidth": 1
          },
          "autotypenumbers": "strict",
          "coloraxis": {
           "colorbar": {
            "outlinewidth": 0,
            "ticks": ""
           }
          },
          "colorscale": {
           "diverging": [
            [
             0,
             "#8e0152"
            ],
            [
             0.1,
             "#c51b7d"
            ],
            [
             0.2,
             "#de77ae"
            ],
            [
             0.3,
             "#f1b6da"
            ],
            [
             0.4,
             "#fde0ef"
            ],
            [
             0.5,
             "#f7f7f7"
            ],
            [
             0.6,
             "#e6f5d0"
            ],
            [
             0.7,
             "#b8e186"
            ],
            [
             0.8,
             "#7fbc41"
            ],
            [
             0.9,
             "#4d9221"
            ],
            [
             1,
             "#276419"
            ]
           ],
           "sequential": [
            [
             0,
             "#0d0887"
            ],
            [
             0.1111111111111111,
             "#46039f"
            ],
            [
             0.2222222222222222,
             "#7201a8"
            ],
            [
             0.3333333333333333,
             "#9c179e"
            ],
            [
             0.4444444444444444,
             "#bd3786"
            ],
            [
             0.5555555555555556,
             "#d8576b"
            ],
            [
             0.6666666666666666,
             "#ed7953"
            ],
            [
             0.7777777777777778,
             "#fb9f3a"
            ],
            [
             0.8888888888888888,
             "#fdca26"
            ],
            [
             1,
             "#f0f921"
            ]
           ],
           "sequentialminus": [
            [
             0,
             "#0d0887"
            ],
            [
             0.1111111111111111,
             "#46039f"
            ],
            [
             0.2222222222222222,
             "#7201a8"
            ],
            [
             0.3333333333333333,
             "#9c179e"
            ],
            [
             0.4444444444444444,
             "#bd3786"
            ],
            [
             0.5555555555555556,
             "#d8576b"
            ],
            [
             0.6666666666666666,
             "#ed7953"
            ],
            [
             0.7777777777777778,
             "#fb9f3a"
            ],
            [
             0.8888888888888888,
             "#fdca26"
            ],
            [
             1,
             "#f0f921"
            ]
           ]
          },
          "colorway": [
           "#636efa",
           "#EF553B",
           "#00cc96",
           "#ab63fa",
           "#FFA15A",
           "#19d3f3",
           "#FF6692",
           "#B6E880",
           "#FF97FF",
           "#FECB52"
          ],
          "font": {
           "color": "#f2f5fa"
          },
          "geo": {
           "bgcolor": "rgb(17,17,17)",
           "lakecolor": "rgb(17,17,17)",
           "landcolor": "rgb(17,17,17)",
           "showlakes": true,
           "showland": true,
           "subunitcolor": "#506784"
          },
          "hoverlabel": {
           "align": "left"
          },
          "hovermode": "closest",
          "mapbox": {
           "style": "dark"
          },
          "paper_bgcolor": "rgb(17,17,17)",
          "plot_bgcolor": "rgb(17,17,17)",
          "polar": {
           "angularaxis": {
            "gridcolor": "#506784",
            "linecolor": "#506784",
            "ticks": ""
           },
           "bgcolor": "rgb(17,17,17)",
           "radialaxis": {
            "gridcolor": "#506784",
            "linecolor": "#506784",
            "ticks": ""
           }
          },
          "scene": {
           "xaxis": {
            "backgroundcolor": "rgb(17,17,17)",
            "gridcolor": "#506784",
            "gridwidth": 2,
            "linecolor": "#506784",
            "showbackground": true,
            "ticks": "",
            "zerolinecolor": "#C8D4E3"
           },
           "yaxis": {
            "backgroundcolor": "rgb(17,17,17)",
            "gridcolor": "#506784",
            "gridwidth": 2,
            "linecolor": "#506784",
            "showbackground": true,
            "ticks": "",
            "zerolinecolor": "#C8D4E3"
           },
           "zaxis": {
            "backgroundcolor": "rgb(17,17,17)",
            "gridcolor": "#506784",
            "gridwidth": 2,
            "linecolor": "#506784",
            "showbackground": true,
            "ticks": "",
            "zerolinecolor": "#C8D4E3"
           }
          },
          "shapedefaults": {
           "line": {
            "color": "#f2f5fa"
           }
          },
          "sliderdefaults": {
           "bgcolor": "#C8D4E3",
           "bordercolor": "rgb(17,17,17)",
           "borderwidth": 1,
           "tickwidth": 0
          },
          "ternary": {
           "aaxis": {
            "gridcolor": "#506784",
            "linecolor": "#506784",
            "ticks": ""
           },
           "baxis": {
            "gridcolor": "#506784",
            "linecolor": "#506784",
            "ticks": ""
           },
           "bgcolor": "rgb(17,17,17)",
           "caxis": {
            "gridcolor": "#506784",
            "linecolor": "#506784",
            "ticks": ""
           }
          },
          "title": {
           "x": 0.05
          },
          "updatemenudefaults": {
           "bgcolor": "#506784",
           "borderwidth": 0
          },
          "xaxis": {
           "automargin": true,
           "gridcolor": "#283442",
           "linecolor": "#506784",
           "ticks": "",
           "title": {
            "standoff": 15
           },
           "zerolinecolor": "#283442",
           "zerolinewidth": 2
          },
          "yaxis": {
           "automargin": true,
           "gridcolor": "#283442",
           "linecolor": "#506784",
           "ticks": "",
           "title": {
            "standoff": 15
           },
           "zerolinecolor": "#283442",
           "zerolinewidth": 2
          }
         }
        },
        "xaxis": {
         "anchor": "y",
         "domain": [
          0,
          1
         ],
         "title": {
          "text": "mês"
         }
        },
        "yaxis": {
         "anchor": "x",
         "domain": [
          0,
          1
         ],
         "title": {
          "text": "preço total do pedido"
         }
        }
       }
      }
     },
     "metadata": {},
     "output_type": "display_data"
    }
   ],
   "source": [
    "px.bar(data_frame=dados_faturados,\n",
    "       x='mês',\n",
    "       y='preço total do pedido',\n",
    "       color='categoria',\n",
    "       barmode='group',\n",
    "       template='plotly_dark')"
   ]
  },
  {
   "cell_type": "code",
   "execution_count": 28,
   "metadata": {},
   "outputs": [
    {
     "data": {
      "text/plain": [
       "0.40882125354655663"
      ]
     },
     "execution_count": 28,
     "metadata": {},
     "output_type": "execute_result"
    }
   ],
   "source": [
    "(345+375+865)/(1636+656+865+375+345)"
   ]
  },
  {
   "cell_type": "code",
   "execution_count": 29,
   "metadata": {},
   "outputs": [
    {
     "data": {
      "text/plain": [
       "0.6958988908950219"
      ]
     },
     "execution_count": 29,
     "metadata": {},
     "output_type": "execute_result"
    }
   ],
   "source": [
    "2698/(2698+954+190+29+6)"
   ]
  },
  {
   "cell_type": "code",
   "execution_count": 31,
   "metadata": {},
   "outputs": [
    {
     "data": {
      "text/plain": [
       "0.3425328862522569"
      ]
     },
     "execution_count": 31,
     "metadata": {},
     "output_type": "execute_result"
    }
   ],
   "source": [
    "(885+246+197)/(273+2276+885+246+197)"
   ]
  },
  {
   "cell_type": "code",
   "execution_count": null,
   "metadata": {},
   "outputs": [],
   "source": []
  }
 ],
 "metadata": {
  "kernelspec": {
   "display_name": "datascience",
   "language": "python",
   "name": "python3"
  },
  "language_info": {
   "codemirror_mode": {
    "name": "ipython",
    "version": 3
   },
   "file_extension": ".py",
   "mimetype": "text/x-python",
   "name": "python",
   "nbconvert_exporter": "python",
   "pygments_lexer": "ipython3",
   "version": "3.11.7"
  }
 },
 "nbformat": 4,
 "nbformat_minor": 2
}
